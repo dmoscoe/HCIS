{
 "cells": [
  {
   "cell_type": "markdown",
   "metadata": {},
   "source": [
    "## Portfolio Piece 2: Histograms and Descriptive Statistics"
   ]
  },
  {
   "cell_type": "markdown",
   "metadata": {},
   "source": [
    "**Introduction**. In this portfolio piece, you will add elements to the histograms you created in Portfolio Piece 1. These new elements will help your reader understand not only the shape of your dataset, but also its center and spread. Later, these *descriptive statistics* will serve as a starting point for comparing datasets and making predictions based on data."
   ]
  },
  {
   "cell_type": "markdown",
   "metadata": {},
   "source": [
    "**Goal**. Choose measures of center and spread appropriate for the data. Represent these descriptive statistics graphically."
   ]
  },
  {
   "cell_type": "markdown",
   "metadata": {},
   "source": [
    "1. Import `matplotlib.pyplot` as `plt`, `pandas` as `pd`, and `statistics` as `st`."
   ]
  },
  {
   "cell_type": "code",
   "execution_count": 5,
   "metadata": {},
   "outputs": [],
   "source": [
    "import matplotlib.pyplot as plt\n",
    "import pandas as pd\n",
    "import statistics as st"
   ]
  },
  {
   "cell_type": "markdown",
   "metadata": {},
   "source": [
    "2. From Portfolio Piece 1, copy and paste the code to import your data into the code cell below."
   ]
  },
  {
   "cell_type": "code",
   "execution_count": 7,
   "metadata": {},
   "outputs": [],
   "source": [
    "df = pd.read_csv(\"C:/Users/dmosc/OneDrive/Documents/academic/Hunter College/ind_study_2021/datasets/flights_flights.csv\")\n",
    "x = df['air_time']"
   ]
  },
  {
   "cell_type": "markdown",
   "metadata": {},
   "source": [
    "**For prompts 3, 5, 8, and 10, add your code to the cell marked \"CODE FOR FIRST HISTOGRAM\".**"
   ]
  },
  {
   "cell_type": "markdown",
   "metadata": {},
   "source": [
    "3. From Portfolio Piece 1, copy and paste the code for your first histogram."
   ]
  },
  {
   "cell_type": "markdown",
   "metadata": {},
   "source": [
    "4. Compute and print the descriptive statistics for the data: \n",
    " - assign `xbar` to the mean of the dataset; \n",
    " - assign `md` to the median of the dataset;\n",
    " - assign `s` to the standard deviation;\n",
    " - assign `q1` to the first quartile;\n",
    " - assign `q3` to the third quartile."
   ]
  },
  {
   "cell_type": "code",
   "execution_count": 10,
   "metadata": {},
   "outputs": [],
   "source": [
    "xbar = st.mean(x)\n",
    "xmd = st.median(x)\n",
    "xs = st.stdev(x)\n",
    "xq1 = st.quantiles(x, n = 4)[0]\n",
    "xq3 = st.quantiles(x, n = 4)[2]"
   ]
  },
  {
   "cell_type": "markdown",
   "metadata": {},
   "source": [
    "5. Create a solid red vertical line at the mean, and a solid green vertical line at the median."
   ]
  },
  {
   "cell_type": "markdown",
   "metadata": {},
   "source": [
    "6. How do the mean and median of the dataset compare? \n",
    " - Are they close together or far apart?\n",
    " - Which is greater?\n",
    " - What explanations can you give for these observations?"
   ]
  },
  {
   "cell_type": "markdown",
   "metadata": {},
   "source": [
    "<font color = blue>The mean is slightly greater than the median, but they both lie within the same region of the histogram (slightly to the right of the first peak). The mean is greater than the median because it's influenced more strongly by the short peak near Air time = 350 minutes. Both the mean and the median seem like reasonable representations of a typical value in this dataset.</font>"
   ]
  },
  {
   "cell_type": "markdown",
   "metadata": {},
   "source": [
    "7. Based on the values of the mean and median, as well as their appearance on the histogram, which (if any!) measure of center do you think better represents a typical value in this dataset?"
   ]
  },
  {
   "cell_type": "markdown",
   "metadata": {},
   "source": [
    "<font color = blue>Both the mean and the median would be reasonable choices for a measure of center for this dataset. I will choose the mean, though, because I want to emphasize the effect of the short peak near Air time = 350 minutes. I'm not sure yet what's causing this peak, but it could be important.</font>"
   ]
  },
  {
   "cell_type": "markdown",
   "metadata": {},
   "source": [
    "8. In addition to a measure of center, we might also be interested in how spread-out the data is. Create dashed red vertical lines at $\\bar{x} \\pm s$, and dashed green vertical lines at the first and third quartiles."
   ]
  },
  {
   "cell_type": "markdown",
   "metadata": {},
   "source": [
    "9. How do the two measures of spread compare?\n",
    " - Which is greater?\n",
    " - Which do you think does a better job of describing about how far from the center we might expect a typical value to be?"
   ]
  },
  {
   "cell_type": "markdown",
   "metadata": {},
   "source": [
    "<font color = blue>The bars representing one standard deviation to either side of the mean are farther apart than the bars representing the first and third quartiles. The first and third quartiles show the region containing the middle half of all the data. It seems like the green bars would be almost the same even if the secondary peak to the right were absent from this dataset. In order to emphasize the secondary peak, I will choose the standard deviation as a representation of spread for this dataset.</font>"
   ]
  },
  {
   "cell_type": "markdown",
   "metadata": {},
   "source": [
    "10. Now that you have made choices about the best measures of center and spread for this data, use the # symbol to comment out the code for the measures you did not choose. When you're done, your histogram should include 3 vertical lines."
   ]
  },
  {
   "cell_type": "code",
   "execution_count": 17,
   "metadata": {},
   "outputs": [
    {
     "data": {
      "text/plain": [
       "<matplotlib.lines.Line2D at 0x20904b0a430>"
      ]
     },
     "execution_count": 17,
     "metadata": {},
     "output_type": "execute_result"
    },
    {
     "data": {
      "image/png": "[encoded data removed]",
      "text/plain": [
       "<Figure size 432x288 with 1 Axes>"
      ]
     },
     "metadata": {
      "needs_background": "light"
     },
     "output_type": "display_data"
    }
   ],
   "source": [
    "###CODE FOR FIRST HISTOGRAM###\n",
    "\n",
    "x = x.dropna()\n",
    "x = x[abs(x - st.mean(x)) < 3.5 * st.stdev(x)]\n",
    "fig, axs = plt.subplots()\n",
    "axs.hist(x, bins = 20, alpha = 0.3)\n",
    "axs.set_title(label = \"Air Time for Flights Departing NYC, 2013\")\n",
    "axs.set_xlabel(\"Air time (minutes)\")\n",
    "axs.set_ylabel(\"Number of flights\")\n",
    "\n",
    "axs.axvline(xbar, color = 'red')\n",
    "#axs.axvline(xmd, color = 'green')\n",
    "\n",
    "axs.axvline(xbar + xs, color = 'red', linestyle = '--')\n",
    "axs.axvline(xbar - xs, color = 'red', linestyle = '--')\n",
    "#axs.axvline(xq1, color = 'green', linestyle = '--')\n",
    "#axs.axvline(xq3, color = 'green', linestyle = '--')"
   ]
  },
  {
   "cell_type": "markdown",
   "metadata": {},
   "source": [
    "11. How do measures of center and spread help us understand our data? Write a short paragraph describing anything new you learned about this dataset as a result of adding measures of center and spread to your histogram. Here are some questions to help guide your writing:\n",
    " - What is a typical value in this dataset?\n",
    " - How does the variability of the data affect our ability to make accurate predictions?\n",
    " - How does the shape of the data affect its center or spread?"
   ]
  },
  {
   "cell_type": "markdown",
   "metadata": {},
   "source": [
    "<font color = blue>Looking at measures of center (mean, median) and measures of spread (standard deviation and interquartile range) helped me understand what a typical flight time out of NYC might be. A large majority of flights lie within one standard deviation of the mean. That means that most flights last between one and four hours, with an average flight lasting a little longer than two hours. However, there are a significant number of flights that last longer than 5 hours.</font>"
   ]
  },
  {
   "cell_type": "markdown",
   "metadata": {},
   "source": [
    "12. In the cell marked \"CODE FOR SECOND HISTOGRAM\", copy and paste the code for your second histogram from Portfolio Piece 1. Then add code to compute descriptive statistics and display measures of center and spread, just like you did above."
   ]
  },
  {
   "cell_type": "code",
   "execution_count": 13,
   "metadata": {},
   "outputs": [
    {
     "data": {
      "text/plain": [
       "<matplotlib.lines.Line2D at 0x20904add220>"
      ]
     },
     "execution_count": 13,
     "metadata": {},
     "output_type": "execute_result"
    },
    {
     "data": {
      "image/png": "[encoded data removed]",
      "text/plain": [
       "<Figure size 432x288 with 1 Axes>"
      ]
     },
     "metadata": {
      "needs_background": "light"
     },
     "output_type": "display_data"
    }
   ],
   "source": [
    "###CODE FOR SECOND HISTOGRAM###\n",
    "\n",
    "y = df['arr_delay']\n",
    "y = y.dropna()\n",
    "y = y[abs(y - st.mean(y)) < 3.5 * st.stdev(y)]\n",
    "fig2, axs2 = plt.subplots()\n",
    "axs2.hist(y, bins = 25, alpha = 0.3)\n",
    "axs2.set_title(label = \"Arrival Delays for Flights Departing NYC, 2013\")\n",
    "axs2.set_xlabel(\"Arrival delay (minutes)\")\n",
    "axs2.set_ylabel(\"Number of flights\")\n",
    "\n",
    "ybar = st.mean(y)\n",
    "ymd = st.median(y)\n",
    "ys = st.stdev(y)\n",
    "yq1 = st.quantiles(y, n = 4)[0]\n",
    "yq3 = st.quantiles(y, n = 4)[2]\n",
    "\n",
    "#axs2.axvline(ybar, color = 'red')\n",
    "axs2.axvline(ymd, color = 'green')\n",
    "\n",
    "#axs2.axvline(ybar + ys, color = 'red', linestyle = '--') #adjust linestyle\n",
    "#axs2.axvline(ybar - ys, color = 'red', linestyle = '--')\n",
    "axs2.axvline(yq1, color = 'green', linestyle = '--')\n",
    "axs2.axvline(yq3, color = 'green', linestyle = '--')"
   ]
  },
  {
   "cell_type": "markdown",
   "metadata": {},
   "source": [
    "13. Write a short paragraph describing anything new you learned about this second dataset as a result of adding measures of center and spread to your histogram."
   ]
  },
  {
   "cell_type": "markdown",
   "metadata": {},
   "source": [
    "<font color = blue>If we travel on a flight originating in NYC, it's reasonable to expect to arrive early! More than half of all flights leaving NYC arrive earlier than their scheduled arrival time. And three quarters of all flights arrive with no more than about 20 minutes delay. Seeing the narrow spread of this distribution strengthened my idea that most flights arrive very nearly on-time, and that the flights with long delays make up only a small amount of the total number of flights.</font>"
   ]
  }
 ],
 "metadata": {
  "kernelspec": {
   "display_name": "Python 3",
   "language": "python",
   "name": "python3"
  },
  "language_info": {
   "codemirror_mode": {
    "name": "ipython",
    "version": 3
   },
   "file_extension": ".py",
   "mimetype": "text/x-python",
   "name": "python",
   "nbconvert_exporter": "python",
   "pygments_lexer": "ipython3",
   "version": "3.8.5"
  }
 },
 "nbformat": 4,
 "nbformat_minor": 4
}
