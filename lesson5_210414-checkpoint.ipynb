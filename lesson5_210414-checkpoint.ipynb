{
 "cells": [
  {
   "cell_type": "markdown",
   "metadata": {},
   "source": [
    "## Lesson 5. Tidying data"
   ]
  },
  {
   "cell_type": "markdown",
   "metadata": {},
   "source": [
    "**Introduction**. Useful data comes from a messy world. If it's collected by humans, it might reflect errors in how people use measuring equipment. Sometimes we encounter data sets with values missing for no apparent reason. Occasionally we will see values that make no sense, given what we know about the context of the data. And sometimes, even when all the measurements are present and accurate, the way the data has been recorded and stored can create headaches for those attempting to analyze it.  \n",
    "\n",
    "All this is why *cleaning the data*, or *tidying* it, or *data wrangling*, is always part of the data science process. In this lesson, we'll learn two strategies for tidying data: dropping missing values, and removing outliers."
   ]
  },
  {
   "cell_type": "markdown",
   "metadata": {},
   "source": [
    "<font color = 'red'>**Caution!**</font> The particular strategies that we use to tidy a data set depend on our goals, the data itself, and what we know about how the data were collected. There is no one-size-fits-all approach to tidying data. The strategies we learn in this lesson may not be appropriate for every data set. As you grow as a data scientist, you will learn more about the considerations that support decisions about preparing a data set."
   ]
  },
  {
   "cell_type": "markdown",
   "metadata": {},
   "source": [
    "**Goal**. Drop missing values from a data set. Remove extreme values. Consider when these manipulations may or may not be appropriate."
   ]
  },
  {
   "cell_type": "markdown",
   "metadata": {},
   "source": [
    "### Examine the data"
   ]
  },
  {
   "cell_type": "markdown",
   "metadata": {},
   "source": [
    "In this lesson we'll work with data about baby names in the United States."
   ]
  },
  {
   "cell_type": "code",
   "execution_count": 7,
   "metadata": {},
   "outputs": [
    {
     "data": {
      "text/html": [
       "<div>\n",
       "<style scoped>\n",
       "    .dataframe tbody tr th:only-of-type {\n",
       "        vertical-align: middle;\n",
       "    }\n",
       "\n",
       "    .dataframe tbody tr th {\n",
       "        vertical-align: top;\n",
       "    }\n",
       "\n",
       "    .dataframe thead th {\n",
       "        text-align: right;\n",
       "    }\n",
       "</style>\n",
       "<table border=\"1\" class=\"dataframe\">\n",
       "  <thead>\n",
       "    <tr style=\"text-align: right;\">\n",
       "      <th></th>\n",
       "      <th>year</th>\n",
       "      <th>sex</th>\n",
       "      <th>name</th>\n",
       "      <th>n</th>\n",
       "      <th>prop</th>\n",
       "      <th>first_letter</th>\n",
       "      <th>first_is_vowel</th>\n",
       "    </tr>\n",
       "  </thead>\n",
       "  <tbody>\n",
       "    <tr>\n",
       "      <th>0</th>\n",
       "      <td>1993.0</td>\n",
       "      <td>M</td>\n",
       "      <td>Reny</td>\n",
       "      <td>5</td>\n",
       "      <td>NaN</td>\n",
       "      <td>R</td>\n",
       "      <td>False</td>\n",
       "    </tr>\n",
       "    <tr>\n",
       "      <th>1</th>\n",
       "      <td>1997.0</td>\n",
       "      <td>M</td>\n",
       "      <td>Gerhard</td>\n",
       "      <td>8</td>\n",
       "      <td>NaN</td>\n",
       "      <td>G</td>\n",
       "      <td>False</td>\n",
       "    </tr>\n",
       "    <tr>\n",
       "      <th>2</th>\n",
       "      <td>1985.0</td>\n",
       "      <td>F</td>\n",
       "      <td>Dolly</td>\n",
       "      <td>48</td>\n",
       "      <td>NaN</td>\n",
       "      <td>D</td>\n",
       "      <td>False</td>\n",
       "    </tr>\n",
       "    <tr>\n",
       "      <th>3</th>\n",
       "      <td>2005.0</td>\n",
       "      <td>F</td>\n",
       "      <td>Chai</td>\n",
       "      <td>7</td>\n",
       "      <td>NaN</td>\n",
       "      <td>C</td>\n",
       "      <td>False</td>\n",
       "    </tr>\n",
       "    <tr>\n",
       "      <th>4</th>\n",
       "      <td>1972.0</td>\n",
       "      <td>M</td>\n",
       "      <td>Governor</td>\n",
       "      <td>7</td>\n",
       "      <td>NaN</td>\n",
       "      <td>G</td>\n",
       "      <td>False</td>\n",
       "    </tr>\n",
       "    <tr>\n",
       "      <th>5</th>\n",
       "      <td>1986.0</td>\n",
       "      <td>M</td>\n",
       "      <td>Luisangel</td>\n",
       "      <td>5</td>\n",
       "      <td>0.000003</td>\n",
       "      <td>L</td>\n",
       "      <td>False</td>\n",
       "    </tr>\n",
       "    <tr>\n",
       "      <th>6</th>\n",
       "      <td>1994.0</td>\n",
       "      <td>F</td>\n",
       "      <td>Gale</td>\n",
       "      <td>5</td>\n",
       "      <td>0.000003</td>\n",
       "      <td>G</td>\n",
       "      <td>False</td>\n",
       "    </tr>\n",
       "    <tr>\n",
       "      <th>7</th>\n",
       "      <td>2011.0</td>\n",
       "      <td>F</td>\n",
       "      <td>Kathryne</td>\n",
       "      <td>13</td>\n",
       "      <td>0.000007</td>\n",
       "      <td>K</td>\n",
       "      <td>False</td>\n",
       "    </tr>\n",
       "    <tr>\n",
       "      <th>8</th>\n",
       "      <td>2011.0</td>\n",
       "      <td>F</td>\n",
       "      <td>Alayssa</td>\n",
       "      <td>5</td>\n",
       "      <td>0.000003</td>\n",
       "      <td>A</td>\n",
       "      <td>True</td>\n",
       "    </tr>\n",
       "    <tr>\n",
       "      <th>9</th>\n",
       "      <td>1888.0</td>\n",
       "      <td>F</td>\n",
       "      <td>Angela</td>\n",
       "      <td>33</td>\n",
       "      <td>0.000174</td>\n",
       "      <td>A</td>\n",
       "      <td>True</td>\n",
       "    </tr>\n",
       "  </tbody>\n",
       "</table>\n",
       "</div>"
      ],
      "text/plain": [
       "     year sex       name   n      prop first_letter  first_is_vowel\n",
       "0  1993.0   M       Reny   5       NaN            R           False\n",
       "1  1997.0   M    Gerhard   8       NaN            G           False\n",
       "2  1985.0   F      Dolly  48       NaN            D           False\n",
       "3  2005.0   F       Chai   7       NaN            C           False\n",
       "4  1972.0   M   Governor   7       NaN            G           False\n",
       "5  1986.0   M  Luisangel   5  0.000003            L           False\n",
       "6  1994.0   F       Gale   5  0.000003            G           False\n",
       "7  2011.0   F   Kathryne  13  0.000007            K           False\n",
       "8  2011.0   F    Alayssa   5  0.000003            A            True\n",
       "9  1888.0   F     Angela  33  0.000174            A            True"
      ]
     },
     "execution_count": 7,
     "metadata": {},
     "output_type": "execute_result"
    }
   ],
   "source": [
    "import matplotlib.pyplot as plt\n",
    "import numpy as np\n",
    "import pandas as pd\n",
    "import statistics as st\n",
    "\n",
    "df = pd.read_csv(\"C:/Users/dmosc/OneDrive/Documents/academic/Hunter College/ind_study_2021/datasets/babynames.csv\")\n",
    "df.head(10)"
   ]
  },
  {
   "cell_type": "markdown",
   "metadata": {},
   "source": [
    "`year` is the babies' birth year.  \n",
    "`sex` is the babies' biological sex.  \n",
    "`name` is the babies' name.  \n",
    "`n` is the number of babies with this name recorded by the survey during year `year`\\.  \n",
    "`prop` is the fraction of all babies named `name` in year `year`\\.  \n",
    "`first_letter` is the first letter of `name`\\.  \n",
    "`first_is_vowel` is `True` if the first letter of `name` is a vowel, and `False` otherwise.  \n",
    "\n",
    "We can use `describe()` to examine some of the descriptive statistics of each numeric column."
   ]
  },
  {
   "cell_type": "code",
   "execution_count": 9,
   "metadata": {},
   "outputs": [
    {
     "data": {
      "text/html": [
       "<div>\n",
       "<style scoped>\n",
       "    .dataframe tbody tr th:only-of-type {\n",
       "        vertical-align: middle;\n",
       "    }\n",
       "\n",
       "    .dataframe tbody tr th {\n",
       "        vertical-align: top;\n",
       "    }\n",
       "\n",
       "    .dataframe thead th {\n",
       "        text-align: right;\n",
       "    }\n",
       "</style>\n",
       "<table border=\"1\" class=\"dataframe\">\n",
       "  <thead>\n",
       "    <tr style=\"text-align: right;\">\n",
       "      <th></th>\n",
       "      <th>year</th>\n",
       "      <th>n</th>\n",
       "      <th>prop</th>\n",
       "    </tr>\n",
       "  </thead>\n",
       "  <tbody>\n",
       "    <tr>\n",
       "      <th>count</th>\n",
       "      <td>99995.000000</td>\n",
       "      <td>100000.000000</td>\n",
       "      <td>99995.000000</td>\n",
       "    </tr>\n",
       "    <tr>\n",
       "      <th>mean</th>\n",
       "      <td>1974.847502</td>\n",
       "      <td>182.505380</td>\n",
       "      <td>0.000142</td>\n",
       "    </tr>\n",
       "    <tr>\n",
       "      <th>std</th>\n",
       "      <td>34.115018</td>\n",
       "      <td>1501.239533</td>\n",
       "      <td>0.001223</td>\n",
       "    </tr>\n",
       "    <tr>\n",
       "      <th>min</th>\n",
       "      <td>1880.000000</td>\n",
       "      <td>5.000000</td>\n",
       "      <td>0.000002</td>\n",
       "    </tr>\n",
       "    <tr>\n",
       "      <th>25%</th>\n",
       "      <td>1951.000000</td>\n",
       "      <td>7.000000</td>\n",
       "      <td>0.000004</td>\n",
       "    </tr>\n",
       "    <tr>\n",
       "      <th>50%</th>\n",
       "      <td>1985.000000</td>\n",
       "      <td>12.000000</td>\n",
       "      <td>0.000007</td>\n",
       "    </tr>\n",
       "    <tr>\n",
       "      <th>75%</th>\n",
       "      <td>2003.000000</td>\n",
       "      <td>32.000000</td>\n",
       "      <td>0.000023</td>\n",
       "    </tr>\n",
       "    <tr>\n",
       "      <th>max</th>\n",
       "      <td>2017.000000</td>\n",
       "      <td>90620.000000</td>\n",
       "      <td>0.075519</td>\n",
       "    </tr>\n",
       "  </tbody>\n",
       "</table>\n",
       "</div>"
      ],
      "text/plain": [
       "               year              n          prop\n",
       "count  99995.000000  100000.000000  99995.000000\n",
       "mean    1974.847502     182.505380      0.000142\n",
       "std       34.115018    1501.239533      0.001223\n",
       "min     1880.000000       5.000000      0.000002\n",
       "25%     1951.000000       7.000000      0.000004\n",
       "50%     1985.000000      12.000000      0.000007\n",
       "75%     2003.000000      32.000000      0.000023\n",
       "max     2017.000000   90620.000000      0.075519"
      ]
     },
     "execution_count": 9,
     "metadata": {},
     "output_type": "execute_result"
    }
   ],
   "source": [
    "df.describe()"
   ]
  },
  {
   "cell_type": "markdown",
   "metadata": {},
   "source": [
    "1. What is the earliest year in the data set for which we have data? What is the most recent year?"
   ]
  },
  {
   "cell_type": "markdown",
   "metadata": {},
   "source": []
  },
  {
   "cell_type": "markdown",
   "metadata": {},
   "source": [
    "2. The data in columns `n` and `prop` are extremely skewed. How can we tell this from the descriptive statistics?"
   ]
  },
  {
   "cell_type": "markdown",
   "metadata": {},
   "source": []
  },
  {
   "cell_type": "markdown",
   "metadata": {},
   "source": [
    "3. Based on the descriptive statistics, for which time interval are there more rows in the data frame: 1880 to 1980, or 1980 to 2017?"
   ]
  },
  {
   "cell_type": "markdown",
   "metadata": {},
   "source": []
  },
  {
   "cell_type": "markdown",
   "metadata": {},
   "source": [
    "### Missing values"
   ]
  },
  {
   "cell_type": "markdown",
   "metadata": {},
   "source": [
    "If you closely examined the first few rows of `df` and the `count` row of the descriptive statistics, you may have noticed that some values are missing. For example, the first 5 entries in the `prop` column are `NaN`. `NaN` is a Python symbol standing for \"not a number,\" and it means that some data are missing. We can also see this from the descriptive statistics, which tell us there are 99,995 entries for `prop` and `year`, even though there are 100,000 entries for `n`."
   ]
  },
  {
   "cell_type": "markdown",
   "metadata": {},
   "source": [
    "1. What do you think will happen if we attempt to calculate the mean of the values in `prop`? Test your prediction."
   ]
  },
  {
   "cell_type": "markdown",
   "metadata": {},
   "source": []
  },
  {
   "cell_type": "code",
   "execution_count": 12,
   "metadata": {},
   "outputs": [],
   "source": [
    "###Calculate the mean of the values in df['prop']###\n"
   ]
  },
  {
   "cell_type": "markdown",
   "metadata": {},
   "source": [
    "2. The descriptive statistics above show a mean value for `prop` of 0.000142. Given your result from prompt 1, how do you think this value was computed?"
   ]
  },
  {
   "cell_type": "markdown",
   "metadata": {},
   "source": []
  },
  {
   "cell_type": "markdown",
   "metadata": {},
   "source": [
    "One strategy for dealing with missing data is to simply delete all rows that contain `NaN`. This strategy represents a compromise: on the one hand, dropping all rows with missing values will yield a complete data set. On the other hand, it means we also lose the rest of the information in those rows. "
   ]
  },
  {
   "cell_type": "markdown",
   "metadata": {},
   "source": [
    "3. When do you think dropping rows with missing values might be more reasonable? When might it be unreasonable to drop rows with missing values?"
   ]
  },
  {
   "cell_type": "markdown",
   "metadata": {},
   "source": []
  },
  {
   "cell_type": "markdown",
   "metadata": {},
   "source": [
    "For our purposes in this unit, we will drop all rows in the data set that contain missing values."
   ]
  },
  {
   "cell_type": "code",
   "execution_count": 14,
   "metadata": {
    "scrolled": true
   },
   "outputs": [
    {
     "data": {
      "text/html": [
       "<div>\n",
       "<style scoped>\n",
       "    .dataframe tbody tr th:only-of-type {\n",
       "        vertical-align: middle;\n",
       "    }\n",
       "\n",
       "    .dataframe tbody tr th {\n",
       "        vertical-align: top;\n",
       "    }\n",
       "\n",
       "    .dataframe thead th {\n",
       "        text-align: right;\n",
       "    }\n",
       "</style>\n",
       "<table border=\"1\" class=\"dataframe\">\n",
       "  <thead>\n",
       "    <tr style=\"text-align: right;\">\n",
       "      <th></th>\n",
       "      <th>year</th>\n",
       "      <th>n</th>\n",
       "      <th>prop</th>\n",
       "    </tr>\n",
       "  </thead>\n",
       "  <tbody>\n",
       "    <tr>\n",
       "      <th>count</th>\n",
       "      <td>99986.000000</td>\n",
       "      <td>99986.000000</td>\n",
       "      <td>99986.000000</td>\n",
       "    </tr>\n",
       "    <tr>\n",
       "      <th>mean</th>\n",
       "      <td>1974.846499</td>\n",
       "      <td>182.520263</td>\n",
       "      <td>0.000142</td>\n",
       "    </tr>\n",
       "    <tr>\n",
       "      <th>std</th>\n",
       "      <td>34.115719</td>\n",
       "      <td>1501.341843</td>\n",
       "      <td>0.001223</td>\n",
       "    </tr>\n",
       "    <tr>\n",
       "      <th>min</th>\n",
       "      <td>1880.000000</td>\n",
       "      <td>5.000000</td>\n",
       "      <td>0.000002</td>\n",
       "    </tr>\n",
       "    <tr>\n",
       "      <th>25%</th>\n",
       "      <td>1951.000000</td>\n",
       "      <td>7.000000</td>\n",
       "      <td>0.000004</td>\n",
       "    </tr>\n",
       "    <tr>\n",
       "      <th>50%</th>\n",
       "      <td>1985.000000</td>\n",
       "      <td>12.000000</td>\n",
       "      <td>0.000007</td>\n",
       "    </tr>\n",
       "    <tr>\n",
       "      <th>75%</th>\n",
       "      <td>2003.000000</td>\n",
       "      <td>32.000000</td>\n",
       "      <td>0.000023</td>\n",
       "    </tr>\n",
       "    <tr>\n",
       "      <th>max</th>\n",
       "      <td>2017.000000</td>\n",
       "      <td>90620.000000</td>\n",
       "      <td>0.075519</td>\n",
       "    </tr>\n",
       "  </tbody>\n",
       "</table>\n",
       "</div>"
      ],
      "text/plain": [
       "               year             n          prop\n",
       "count  99986.000000  99986.000000  99986.000000\n",
       "mean    1974.846499    182.520263      0.000142\n",
       "std       34.115719   1501.341843      0.001223\n",
       "min     1880.000000      5.000000      0.000002\n",
       "25%     1951.000000      7.000000      0.000004\n",
       "50%     1985.000000     12.000000      0.000007\n",
       "75%     2003.000000     32.000000      0.000023\n",
       "max     2017.000000  90620.000000      0.075519"
      ]
     },
     "execution_count": 14,
     "metadata": {},
     "output_type": "execute_result"
    }
   ],
   "source": [
    "###Drop missing values###\n",
    "df = df.dropna()\n",
    "df.describe()"
   ]
  },
  {
   "cell_type": "markdown",
   "metadata": {},
   "source": [
    "4. The previous output of `df.describe()` showed 5 missing values from `year` and 5 missing values from `prop`. Why isn't `count` equal to 99,990 for each column above?"
   ]
  },
  {
   "cell_type": "markdown",
   "metadata": {},
   "source": []
  },
  {
   "cell_type": "markdown",
   "metadata": {},
   "source": [
    "5. Now that we've dropped missing values, compute the mean value for `prop` one more time."
   ]
  },
  {
   "cell_type": "code",
   "execution_count": null,
   "metadata": {},
   "outputs": [],
   "source": []
  },
  {
   "cell_type": "markdown",
   "metadata": {},
   "source": [
    "### Extreme values"
   ]
  },
  {
   "cell_type": "markdown",
   "metadata": {},
   "source": [
    "Let's examine the entries in `n` by plotting a histogram."
   ]
  },
  {
   "cell_type": "markdown",
   "metadata": {},
   "source": [
    "6. Plot the default histogram for `df['n']`."
   ]
  },
  {
   "cell_type": "code",
   "execution_count": null,
   "metadata": {},
   "outputs": [],
   "source": []
  },
  {
   "cell_type": "markdown",
   "metadata": {},
   "source": [
    "If you are looking right now at a strange histogram, you may not have made a mistake-- this data is extremely skewed! A large number of names are given only to a few babies. Here are some of the rarest names in the data set."
   ]
  },
  {
   "cell_type": "code",
   "execution_count": 21,
   "metadata": {},
   "outputs": [
    {
     "data": {
      "text/html": [
       "<div>\n",
       "<style scoped>\n",
       "    .dataframe tbody tr th:only-of-type {\n",
       "        vertical-align: middle;\n",
       "    }\n",
       "\n",
       "    .dataframe tbody tr th {\n",
       "        vertical-align: top;\n",
       "    }\n",
       "\n",
       "    .dataframe thead th {\n",
       "        text-align: right;\n",
       "    }\n",
       "</style>\n",
       "<table border=\"1\" class=\"dataframe\">\n",
       "  <thead>\n",
       "    <tr style=\"text-align: right;\">\n",
       "      <th></th>\n",
       "      <th>year</th>\n",
       "      <th>sex</th>\n",
       "      <th>name</th>\n",
       "      <th>n</th>\n",
       "      <th>prop</th>\n",
       "      <th>first_letter</th>\n",
       "      <th>first_is_vowel</th>\n",
       "    </tr>\n",
       "  </thead>\n",
       "  <tbody>\n",
       "    <tr>\n",
       "      <th>5</th>\n",
       "      <td>1986.0</td>\n",
       "      <td>M</td>\n",
       "      <td>Luisangel</td>\n",
       "      <td>5</td>\n",
       "      <td>0.000003</td>\n",
       "      <td>L</td>\n",
       "      <td>False</td>\n",
       "    </tr>\n",
       "    <tr>\n",
       "      <th>6</th>\n",
       "      <td>1994.0</td>\n",
       "      <td>F</td>\n",
       "      <td>Gale</td>\n",
       "      <td>5</td>\n",
       "      <td>0.000003</td>\n",
       "      <td>G</td>\n",
       "      <td>False</td>\n",
       "    </tr>\n",
       "    <tr>\n",
       "      <th>8</th>\n",
       "      <td>2011.0</td>\n",
       "      <td>F</td>\n",
       "      <td>Alayssa</td>\n",
       "      <td>5</td>\n",
       "      <td>0.000003</td>\n",
       "      <td>A</td>\n",
       "      <td>True</td>\n",
       "    </tr>\n",
       "    <tr>\n",
       "      <th>14</th>\n",
       "      <td>2010.0</td>\n",
       "      <td>F</td>\n",
       "      <td>Raquell</td>\n",
       "      <td>5</td>\n",
       "      <td>0.000003</td>\n",
       "      <td>R</td>\n",
       "      <td>False</td>\n",
       "    </tr>\n",
       "    <tr>\n",
       "      <th>16</th>\n",
       "      <td>1983.0</td>\n",
       "      <td>F</td>\n",
       "      <td>Temeca</td>\n",
       "      <td>5</td>\n",
       "      <td>0.000003</td>\n",
       "      <td>T</td>\n",
       "      <td>False</td>\n",
       "    </tr>\n",
       "    <tr>\n",
       "      <th>22</th>\n",
       "      <td>2012.0</td>\n",
       "      <td>F</td>\n",
       "      <td>Hebah</td>\n",
       "      <td>5</td>\n",
       "      <td>0.000003</td>\n",
       "      <td>H</td>\n",
       "      <td>False</td>\n",
       "    </tr>\n",
       "    <tr>\n",
       "      <th>23</th>\n",
       "      <td>1984.0</td>\n",
       "      <td>F</td>\n",
       "      <td>Magdalyn</td>\n",
       "      <td>5</td>\n",
       "      <td>0.000003</td>\n",
       "      <td>M</td>\n",
       "      <td>False</td>\n",
       "    </tr>\n",
       "    <tr>\n",
       "      <th>28</th>\n",
       "      <td>1892.0</td>\n",
       "      <td>M</td>\n",
       "      <td>Mansfield</td>\n",
       "      <td>5</td>\n",
       "      <td>0.000038</td>\n",
       "      <td>M</td>\n",
       "      <td>False</td>\n",
       "    </tr>\n",
       "    <tr>\n",
       "      <th>47</th>\n",
       "      <td>2008.0</td>\n",
       "      <td>M</td>\n",
       "      <td>Vidyuth</td>\n",
       "      <td>5</td>\n",
       "      <td>0.000002</td>\n",
       "      <td>V</td>\n",
       "      <td>False</td>\n",
       "    </tr>\n",
       "    <tr>\n",
       "      <th>48</th>\n",
       "      <td>1980.0</td>\n",
       "      <td>F</td>\n",
       "      <td>Aurore</td>\n",
       "      <td>5</td>\n",
       "      <td>0.000003</td>\n",
       "      <td>A</td>\n",
       "      <td>True</td>\n",
       "    </tr>\n",
       "    <tr>\n",
       "      <th>53</th>\n",
       "      <td>2009.0</td>\n",
       "      <td>M</td>\n",
       "      <td>Danian</td>\n",
       "      <td>5</td>\n",
       "      <td>0.000002</td>\n",
       "      <td>D</td>\n",
       "      <td>False</td>\n",
       "    </tr>\n",
       "    <tr>\n",
       "      <th>57</th>\n",
       "      <td>2006.0</td>\n",
       "      <td>F</td>\n",
       "      <td>Giya</td>\n",
       "      <td>5</td>\n",
       "      <td>0.000002</td>\n",
       "      <td>G</td>\n",
       "      <td>False</td>\n",
       "    </tr>\n",
       "    <tr>\n",
       "      <th>63</th>\n",
       "      <td>1929.0</td>\n",
       "      <td>F</td>\n",
       "      <td>Eudell</td>\n",
       "      <td>5</td>\n",
       "      <td>0.000004</td>\n",
       "      <td>E</td>\n",
       "      <td>True</td>\n",
       "    </tr>\n",
       "    <tr>\n",
       "      <th>64</th>\n",
       "      <td>1952.0</td>\n",
       "      <td>M</td>\n",
       "      <td>Dannel</td>\n",
       "      <td>5</td>\n",
       "      <td>0.000003</td>\n",
       "      <td>D</td>\n",
       "      <td>False</td>\n",
       "    </tr>\n",
       "    <tr>\n",
       "      <th>71</th>\n",
       "      <td>1922.0</td>\n",
       "      <td>F</td>\n",
       "      <td>Arelene</td>\n",
       "      <td>5</td>\n",
       "      <td>0.000004</td>\n",
       "      <td>A</td>\n",
       "      <td>True</td>\n",
       "    </tr>\n",
       "    <tr>\n",
       "      <th>72</th>\n",
       "      <td>1986.0</td>\n",
       "      <td>F</td>\n",
       "      <td>Tanyell</td>\n",
       "      <td>5</td>\n",
       "      <td>0.000003</td>\n",
       "      <td>T</td>\n",
       "      <td>False</td>\n",
       "    </tr>\n",
       "    <tr>\n",
       "      <th>77</th>\n",
       "      <td>1996.0</td>\n",
       "      <td>F</td>\n",
       "      <td>Cacy</td>\n",
       "      <td>5</td>\n",
       "      <td>0.000003</td>\n",
       "      <td>C</td>\n",
       "      <td>False</td>\n",
       "    </tr>\n",
       "    <tr>\n",
       "      <th>80</th>\n",
       "      <td>1986.0</td>\n",
       "      <td>F</td>\n",
       "      <td>Shylo</td>\n",
       "      <td>5</td>\n",
       "      <td>0.000003</td>\n",
       "      <td>S</td>\n",
       "      <td>False</td>\n",
       "    </tr>\n",
       "    <tr>\n",
       "      <th>91</th>\n",
       "      <td>1985.0</td>\n",
       "      <td>M</td>\n",
       "      <td>Olaf</td>\n",
       "      <td>5</td>\n",
       "      <td>0.000003</td>\n",
       "      <td>O</td>\n",
       "      <td>True</td>\n",
       "    </tr>\n",
       "    <tr>\n",
       "      <th>92</th>\n",
       "      <td>1970.0</td>\n",
       "      <td>F</td>\n",
       "      <td>Ronalyn</td>\n",
       "      <td>5</td>\n",
       "      <td>0.000003</td>\n",
       "      <td>R</td>\n",
       "      <td>False</td>\n",
       "    </tr>\n",
       "  </tbody>\n",
       "</table>\n",
       "</div>"
      ],
      "text/plain": [
       "      year sex       name  n      prop first_letter  first_is_vowel\n",
       "5   1986.0   M  Luisangel  5  0.000003            L           False\n",
       "6   1994.0   F       Gale  5  0.000003            G           False\n",
       "8   2011.0   F    Alayssa  5  0.000003            A            True\n",
       "14  2010.0   F    Raquell  5  0.000003            R           False\n",
       "16  1983.0   F     Temeca  5  0.000003            T           False\n",
       "22  2012.0   F      Hebah  5  0.000003            H           False\n",
       "23  1984.0   F   Magdalyn  5  0.000003            M           False\n",
       "28  1892.0   M  Mansfield  5  0.000038            M           False\n",
       "47  2008.0   M    Vidyuth  5  0.000002            V           False\n",
       "48  1980.0   F     Aurore  5  0.000003            A            True\n",
       "53  2009.0   M     Danian  5  0.000002            D           False\n",
       "57  2006.0   F       Giya  5  0.000002            G           False\n",
       "63  1929.0   F     Eudell  5  0.000004            E            True\n",
       "64  1952.0   M     Dannel  5  0.000003            D           False\n",
       "71  1922.0   F    Arelene  5  0.000004            A            True\n",
       "72  1986.0   F    Tanyell  5  0.000003            T           False\n",
       "77  1996.0   F       Cacy  5  0.000003            C           False\n",
       "80  1986.0   F      Shylo  5  0.000003            S           False\n",
       "91  1985.0   M       Olaf  5  0.000003            O            True\n",
       "92  1970.0   F    Ronalyn  5  0.000003            R           False"
      ]
     },
     "execution_count": 21,
     "metadata": {},
     "output_type": "execute_result"
    }
   ],
   "source": [
    "df.nsmallest(20, 'n')"
   ]
  },
  {
   "cell_type": "markdown",
   "metadata": {},
   "source": [
    "In some data sets, measurements with very large or very small values are called *outliers*. Sometimes there is reason to believe that these outliers represent errors in data collection. When this is the case, outliers are sometimes removed from the data set. For the baby names data, we cannot claim that very rare names represent outliers. That's because *most* of the distinct names in the data set are very rare!  \n",
    "\n",
    "So how can we gain more insight into our data when its shape is so skewed? One strategy is to examine different regions of the data separately.  \n",
    "\n",
    "We can examine different regions of the data using a technique called *filtering*. We'll assign a new variable name to a subset of our data set based on a certain condition. In the example below, we filter for rare names-- those given to fewer than 100 babies in any given year."
   ]
  },
  {
   "cell_type": "code",
   "execution_count": 23,
   "metadata": {},
   "outputs": [
    {
     "data": {
      "text/plain": [
       "(array([57017., 12294.,  6438.,  3509.,  2428.,  1977.,  1318.,  1196.,\n",
       "          902.,   840.]),\n",
       " array([ 5. , 14.4, 23.8, 33.2, 42.6, 52. , 61.4, 70.8, 80.2, 89.6, 99. ]),\n",
       " <BarContainer object of 10 artists>)"
      ]
     },
     "execution_count": 23,
     "metadata": {},
     "output_type": "execute_result"
    },
    {
     "data": {
      "image/png": "[encoded data removed]",
      "text/plain": [
       "<Figure size 432x288 with 1 Axes>"
      ]
     },
     "metadata": {
      "needs_background": "light"
     },
     "output_type": "display_data"
    }
   ],
   "source": [
    "rare_names = df[df['n'] < 100]\n",
    "fig, axs = plt.subplots()\n",
    "axs.hist(rare_names['n'])"
   ]
  },
  {
   "cell_type": "markdown",
   "metadata": {},
   "source": [
    "7. Describe each part of the first line in the code cell above. What are the meanings of the two expressions between brackets?"
   ]
  },
  {
   "cell_type": "markdown",
   "metadata": {},
   "source": []
  },
  {
   "cell_type": "markdown",
   "metadata": {},
   "source": [
    "We can filter based on other conditions, too. In the example below, we'll filter to remove all rows with a value for `n` less than 1 standard deviation greater than the mean."
   ]
  },
  {
   "cell_type": "code",
   "execution_count": 26,
   "metadata": {},
   "outputs": [
    {
     "data": {
      "text/plain": [
       "(array([1633.,  170.,   63.,   30.,    8.,    5.,    6.,    3.,    2.,\n",
       "           3.]),\n",
       " array([ 1686. , 10579.4, 19472.8, 28366.2, 37259.6, 46153. , 55046.4,\n",
       "        63939.8, 72833.2, 81726.6, 90620. ]),\n",
       " <BarContainer object of 10 artists>)"
      ]
     },
     "execution_count": 26,
     "metadata": {},
     "output_type": "execute_result"
    },
    {
     "data": {
      "image/png": "[encoded data removed]",
      "text/plain": [
       "<Figure size 432x288 with 1 Axes>"
      ]
     },
     "metadata": {
      "needs_background": "light"
     },
     "output_type": "display_data"
    }
   ],
   "source": [
    "typical_names = df[df['n'] > (st.mean(df['n'] + st.stdev(df['n'])))]\n",
    "fig, axs = plt.subplots()\n",
    "axs.hist(typical_names['n'])"
   ]
  },
  {
   "cell_type": "markdown",
   "metadata": {},
   "source": [
    "### Summary"
   ]
  },
  {
   "cell_type": "markdown",
   "metadata": {},
   "source": [
    "Tidying our data set sometimes means removing missing values. There may also be times when we want to examine only a subset of our data at a time. We can use filtering to create a new data frame that is a subset of another. This filtering strategy can also be used to remove outliers. Before manipulating a data set, a data scientist should consider the pros and cons of their tidying strategies."
   ]
  },
  {
   "cell_type": "markdown",
   "metadata": {},
   "source": [
    "### Discussion questions"
   ]
  },
  {
   "cell_type": "markdown",
   "metadata": {},
   "source": [
    "8. Compare and contrast the histograms based on `rare_names` and `typical_names`."
   ]
  },
  {
   "cell_type": "markdown",
   "metadata": {},
   "source": []
  },
  {
   "cell_type": "markdown",
   "metadata": {},
   "source": [
    "9. How else might you filter this data set to learn more about its different subsets?"
   ]
  },
  {
   "cell_type": "markdown",
   "metadata": {},
   "source": []
  },
  {
   "cell_type": "markdown",
   "metadata": {},
   "source": [
    "10. Add axes labels and titles to the two histograms above."
   ]
  }
 ],
 "metadata": {
  "kernelspec": {
   "display_name": "Python 3",
   "language": "python",
   "name": "python3"
  },
  "language_info": {
   "codemirror_mode": {
    "name": "ipython",
    "version": 3
   },
   "file_extension": ".py",
   "mimetype": "text/x-python",
   "name": "python",
   "nbconvert_exporter": "python",
   "pygments_lexer": "ipython3",
   "version": "3.8.5"
  }
 },
 "nbformat": 4,
 "nbformat_minor": 4
}
