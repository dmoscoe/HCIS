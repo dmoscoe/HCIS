{
 "cells": [
  {
   "cell_type": "markdown",
   "metadata": {},
   "source": [
    "## Lesson 6. Grouping data"
   ]
  },
  {
   "cell_type": "markdown",
   "metadata": {},
   "source": [
    "**Introduction**. In lesson 5, we filtered based on one column of a data set, and then we examined that column. In lesson 6, we'll filter one column, and then examine another. This process is called *grouping*. In the baby names data, this might mean separating names of males and names of females, and then examining the distribution of first letters. We'll examine these groups using *subplots*: groups of plots that share an axis."
   ]
  },
  {
   "cell_type": "markdown",
   "metadata": {},
   "source": [
    "**Goal**. Use subplots to compare groups in the baby names data set."
   ]
  },
  {
   "cell_type": "markdown",
   "metadata": {},
   "source": [
    "### Grouping data"
   ]
  },
  {
   "cell_type": "markdown",
   "metadata": {},
   "source": [
    "Are there differences in the first letters of names given to boys and girls? To answer this question, we'll need to *group* the baby names data.  \n",
    "\n",
    "Grouping the data by sex means creating separate data frames for rows where `sex` is `M`, and where `sex` is `F`. This uses the same process as filtering from the previous lesson. In this lesson we're thinking of filtering as grouping, because we're comparing the results to each other-- we're comparing two different groups."
   ]
  },
  {
   "cell_type": "code",
   "execution_count": null,
   "metadata": {},
   "outputs": [],
   "source": [
    "import matplotlib.pyplot as plt\n",
    "import numpy as np\n",
    "import pandas as pd\n",
    "import statistics as st\n",
    "\n",
    "df = pd.read_csv(\"https://raw.githubusercontent.com/dmoscoe/HCIS/main/csv/babynames.csv\")\n",
    "df = df.dropna()\n",
    "boys_names = df[df['sex'] == 'M']\n",
    "girls_names = df[df['sex'] == 'F']\n",
    "boys_names.describe()"
   ]
  },
  {
   "cell_type": "code",
   "execution_count": 2,
   "metadata": {},
   "outputs": [
    {
     "data": {
      "text/html": [
       "<div>\n",
       "<style scoped>\n",
       "    .dataframe tbody tr th:only-of-type {\n",
       "        vertical-align: middle;\n",
       "    }\n",
       "\n",
       "    .dataframe tbody tr th {\n",
       "        vertical-align: top;\n",
       "    }\n",
       "\n",
       "    .dataframe thead th {\n",
       "        text-align: right;\n",
       "    }\n",
       "</style>\n",
       "<table border=\"1\" class=\"dataframe\">\n",
       "  <thead>\n",
       "    <tr style=\"text-align: right;\">\n",
       "      <th></th>\n",
       "      <th>year</th>\n",
       "      <th>n</th>\n",
       "      <th>prop</th>\n",
       "    </tr>\n",
       "  </thead>\n",
       "  <tbody>\n",
       "    <tr>\n",
       "      <th>count</th>\n",
       "      <td>59111.000000</td>\n",
       "      <td>59111.000000</td>\n",
       "      <td>59111.000000</td>\n",
       "    </tr>\n",
       "    <tr>\n",
       "      <th>mean</th>\n",
       "      <td>1975.409146</td>\n",
       "      <td>156.464804</td>\n",
       "      <td>0.000119</td>\n",
       "    </tr>\n",
       "    <tr>\n",
       "      <th>std</th>\n",
       "      <td>33.426762</td>\n",
       "      <td>1167.820206</td>\n",
       "      <td>0.000914</td>\n",
       "    </tr>\n",
       "    <tr>\n",
       "      <th>min</th>\n",
       "      <td>1880.000000</td>\n",
       "      <td>5.000000</td>\n",
       "      <td>0.000002</td>\n",
       "    </tr>\n",
       "    <tr>\n",
       "      <th>25%</th>\n",
       "      <td>1954.000000</td>\n",
       "      <td>7.000000</td>\n",
       "      <td>0.000004</td>\n",
       "    </tr>\n",
       "    <tr>\n",
       "      <th>50%</th>\n",
       "      <td>1985.000000</td>\n",
       "      <td>12.000000</td>\n",
       "      <td>0.000007</td>\n",
       "    </tr>\n",
       "    <tr>\n",
       "      <th>75%</th>\n",
       "      <td>2003.000000</td>\n",
       "      <td>31.000000</td>\n",
       "      <td>0.000022</td>\n",
       "    </tr>\n",
       "    <tr>\n",
       "      <th>max</th>\n",
       "      <td>2017.000000</td>\n",
       "      <td>73972.000000</td>\n",
       "      <td>0.066991</td>\n",
       "    </tr>\n",
       "  </tbody>\n",
       "</table>\n",
       "</div>"
      ],
      "text/plain": [
       "               year             n          prop\n",
       "count  59111.000000  59111.000000  59111.000000\n",
       "mean    1975.409146    156.464804      0.000119\n",
       "std       33.426762   1167.820206      0.000914\n",
       "min     1880.000000      5.000000      0.000002\n",
       "25%     1954.000000      7.000000      0.000004\n",
       "50%     1985.000000     12.000000      0.000007\n",
       "75%     2003.000000     31.000000      0.000022\n",
       "max     2017.000000  73972.000000      0.066991"
      ]
     },
     "execution_count": 2,
     "metadata": {},
     "output_type": "execute_result"
    }
   ],
   "source": [
    "girls_names.describe()"
   ]
  },
  {
   "cell_type": "markdown",
   "metadata": {},
   "source": [
    "1. Based only on the descriptive statistics for the two different groups, what do you notice or wonder about how these two groups compare to each other?"
   ]
  },
  {
   "cell_type": "markdown",
   "metadata": {},
   "source": [
    "*Sample response*: I notice that there are many more distinct girls' names than boys' names, and the most popular boys' names are more popular than the most popular girls' names. I can see this because the max `n` for boys is greater than the max `n` for girls."
   ]
  },
  {
   "cell_type": "markdown",
   "metadata": {},
   "source": [
    "2. How else might we divide the baby names data into different, non-overlapping groups?"
   ]
  },
  {
   "cell_type": "markdown",
   "metadata": {},
   "source": [
    "*Sample response*: We could group the names by whether they begin with a vowel or not."
   ]
  },
  {
   "cell_type": "markdown",
   "metadata": {},
   "source": [
    "Are girls' names more likely to begin with certain letters? To answer this question, we'll look at a bar plot that measures how many girls in the data set have names that begin with each letter."
   ]
  },
  {
   "cell_type": "markdown",
   "metadata": {},
   "source": [
    "3. Why do we need a bar plot to visualize this instead of a histogram?"
   ]
  },
  {
   "cell_type": "markdown",
   "metadata": {},
   "source": [
    "*Sample response*: We need to use a bar plot because our independent variable is a letter of the alphabet. Since this variable is not numeric, we cannot represent it on the number line axis of a histogram."
   ]
  },
  {
   "cell_type": "markdown",
   "metadata": {},
   "source": [
    "How can we instruct Python to group together all the girls whose names begin with a certain letter? We don't want to merely count the number of distinct names beginning with *A*, for example. Rather, we want to know, how many girls in this data set have a first name beginning with *A*?"
   ]
  },
  {
   "cell_type": "markdown",
   "metadata": {},
   "source": [
    "4. Explain the difference between the fraction of girls' names that begin with *A*, and the fraction of girls whose name begins with *A*. Which are we interested in?"
   ]
  },
  {
   "cell_type": "markdown",
   "metadata": {},
   "source": [
    "*Sample response*: The fraction of girls' names that begin with *A* has a denominator that is the total number of distinct names. The fraction of girls whose name begins with *A* has a denominator that is the total number of all girls surveyed in the data set. We're interested in the latter."
   ]
  },
  {
   "cell_type": "markdown",
   "metadata": {},
   "source": [
    "We want to group girls' names together by first letter. Then, we want to add up all the values in the `n` column for each group. The result will be a data frame with 26 rows. The value for `n` in this new data frame will be the total number of girls in the data set whose name begins with the given letter. Here's what it looks like:"
   ]
  },
  {
   "cell_type": "code",
   "execution_count": 3,
   "metadata": {},
   "outputs": [
    {
     "name": "stdout",
     "output_type": "stream",
     "text": [
      "                    year       n      prop  first_is_vowel\n",
      "first_letter                                              \n",
      "A             12641438.0  808256  0.605003            6379\n",
      "B              4106936.0  455585  0.347812               0\n",
      "C              8100894.0  721218  0.476967               0\n",
      "D              6906414.0  617843  0.443123               0\n",
      "E              5172529.0  554049  0.530212            2635\n",
      "F              1907413.0  107760  0.113049               0\n",
      "G              2906072.0  205637  0.165123               0\n",
      "H              1957468.0  151697  0.133234               0\n",
      "I              1823174.0  109704  0.101442             924\n",
      "J              8111911.0  876195  0.575564               0\n",
      "K              7997857.0  532690  0.315158               0\n",
      "L              9035497.0  676723  0.548025               0\n",
      "M             11045724.0  993816  0.915366               0\n",
      "N              3883928.0  239195  0.178343               0\n",
      "O              1342650.0   34552  0.046573             688\n",
      "P              2028023.0  293872  0.192751               0\n",
      "Q               289652.0    3362  0.002318               0\n",
      "R              5317613.0  416451  0.383704               0\n",
      "S              9481556.0  771829  0.501872               0\n",
      "T              6413341.0  288286  0.169240               0\n",
      "U               216377.0    3597  0.002710             110\n",
      "V              2398785.0  216410  0.162417               0\n",
      "W               982823.0   77751  0.066258               0\n",
      "X               143946.0    2237  0.001124               0\n",
      "Y              1195672.0   50545  0.027931               0\n",
      "Z              1360717.0   39531  0.024318               0\n"
     ]
    }
   ],
   "source": [
    "girls_names = girls_names.groupby('first_letter').sum('n')\n",
    "print(girls_names)"
   ]
  },
  {
   "cell_type": "markdown",
   "metadata": {},
   "source": [
    "5. Now that we've grouped the data, the meaning of the entries in each column is different. What do you think the values in the `year`, `prop`, and `first_is_vowel` columns represent? Are they meaningful?"
   ]
  },
  {
   "cell_type": "markdown",
   "metadata": {},
   "source": [
    "*Sample response*: The data in the `year` column is not meaningful. Each entry is the sum of all the years for each name beginning with a particular letter. The data in the `prop` column are not meaningful. The data in the `first_is_vowel` are meaningful: they tell us the number of distinct names that begin with each vowel."
   ]
  },
  {
   "cell_type": "markdown",
   "metadata": {},
   "source": [
    "Let's take a look at the results."
   ]
  },
  {
   "cell_type": "code",
   "execution_count": 7,
   "metadata": {},
   "outputs": [
    {
     "data": {
      "text/plain": [
       "Text(0.5, 1.0, \"First letters of girls' first names\")"
      ]
     },
     "execution_count": 7,
     "metadata": {},
     "output_type": "execute_result"
    },
    {
     "data": {
      "image/png": "[encoded data removed]",
      "text/plain": [
       "<Figure size 432x288 with 1 Axes>"
      ]
     },
     "metadata": {
      "needs_background": "light"
     },
     "output_type": "display_data"
    }
   ],
   "source": [
    "fig, axs = plt.subplots()\n",
    "axs.bar(girls_names.index, girls_names['n']/1000000)\n",
    "axs.set_xlabel(\"First letter of girls' names\")\n",
    "axs.set_ylabel(\"Number of girls (millions)\")\n",
    "axs.set_title(label = \"First letters of girls' first names\")"
   ]
  },
  {
   "cell_type": "markdown",
   "metadata": {},
   "source": [
    "6. What conclusions can you draw from the bar plot? What questions does it raise for you?"
   ]
  },
  {
   "cell_type": "markdown",
   "metadata": {},
   "source": [
    "*Sample response*: Some letters are much more popular than others. For example, there are many more girls whose first name begins with *M* than there are whose first name begins with *O*."
   ]
  },
  {
   "cell_type": "markdown",
   "metadata": {},
   "source": [
    "7. Generate the corresponding bar plot for boys' names."
   ]
  },
  {
   "cell_type": "code",
   "execution_count": 9,
   "metadata": {},
   "outputs": [
    {
     "data": {
      "text/plain": [
       "Text(0.5, 1.0, \"First letters of boys' first names\")"
      ]
     },
     "execution_count": 9,
     "metadata": {},
     "output_type": "execute_result"
    },
    {
     "data": {
      "image/png": "[encoded data removed]",
      "text/plain": [
       "<Figure size 432x288 with 1 Axes>"
      ]
     },
     "metadata": {
      "needs_background": "light"
     },
     "output_type": "display_data"
    }
   ],
   "source": [
    "#Sample response:\n",
    "boys_names = boys_names.groupby('first_letter').sum('n')\n",
    "fig, axs = plt.subplots()\n",
    "axs.bar(boys_names.index, boys_names['n']/1000000)\n",
    "axs.set_xlabel(\"First letter of boys' names\")\n",
    "axs.set_ylabel(\"Number of boys (millions)\")\n",
    "axs.set_title(label = \"First letters of boys' first names\")"
   ]
  },
  {
   "cell_type": "markdown",
   "metadata": {},
   "source": [
    "8. What conclusions can you draw from the bar plot? What questions does it raise for you?"
   ]
  },
  {
   "cell_type": "markdown",
   "metadata": {},
   "source": [
    "*Sample response*: As with the girls' names, some letters are much more common than others. The letter *J* stands out as by far the most popular starting letter for a boy's name. Some letters that were relatively popular for girls, like *S*, and not so popular for boys."
   ]
  },
  {
   "cell_type": "markdown",
   "metadata": {},
   "source": [
    "9. What comparisons can you make between the two bar plots?"
   ]
  },
  {
   "cell_type": "markdown",
   "metadata": {},
   "source": [
    "*Sample response*: The differences across the alphabet seem to be more extreme for boys' names. The popular letters are more popular, and the least popular letters are almost non-existent on the bar plot."
   ]
  },
  {
   "cell_type": "markdown",
   "metadata": {},
   "source": [
    "### Subplots"
   ]
  },
  {
   "cell_type": "markdown",
   "metadata": {},
   "source": [
    "How could we create one plot that displays the distribution of first letters for both the boys' and the girls' names? There are several strategies available, but one is to create subplots.  \n",
    "\n",
    "*Subplots* are separate plots that display related information. The way they're arranged helps the reader make comparisons among the data in different subplots. Our subplots will assist the reader in comparing the distribution of first letters for boys' names and girls' names. They'll do this by sharing a horizontal axis.  \n",
    "\n",
    "Study the example that follows. Then use the example to help you group the baby name data in a different way. Use subplots to illustrate differences across your groups."
   ]
  },
  {
   "cell_type": "code",
   "execution_count": 12,
   "metadata": {},
   "outputs": [
    {
     "data": {
      "text/plain": [
       "Text(0.5, 15.000000000000028, 'First letter of first name')"
      ]
     },
     "execution_count": 12,
     "metadata": {},
     "output_type": "execute_result"
    },
    {
     "data": {
      "image/png": "[encoded data removed]",
      "text/plain": [
       "<Figure size 432x288 with 2 Axes>"
      ]
     },
     "metadata": {
      "needs_background": "light"
     },
     "output_type": "display_data"
    }
   ],
   "source": [
    "fig, axs = plt.subplots(2, 1, sharex = True)\n",
    "    #The 2 represents the number of rows we'll arrange our subplots in.\n",
    "    #The 1 gives the number of columns.\n",
    "    #sharex = True means that these two subplots will share an x axis.\n",
    "\n",
    "plt.tight_layout()\n",
    "    #This tells Python to arrange the plots so that the y-axis labels do not overlap.\n",
    "\n",
    "axs[0].bar(girls_names.index, girls_names['n']/1000000, color = 'green')\n",
    "    #The 0 index on the axes object indicates that we're describing the\n",
    "    #first subplot. (Remember the first element in a list has index = 0.)\n",
    "    #We'll use different colors to emphasize that the two subplots are describing\n",
    "    #different things.\n",
    "\n",
    "axs[0].set_ylabel(\"Number of girls (millions)\")\n",
    "    #Notice that we always need to use an index to indicate the subplot we're describing.\n",
    "\n",
    "axs[0].set_title(\"First letters of girls' and boys' names\")\n",
    "\n",
    "    #We omit an x-axis label for the first subplot, because that\n",
    "    #information will be displayed below the second subplot. Similarly,\n",
    "    #We place the title with the top subplot, and it describes the\n",
    "    #information in both parts of the visualization.\n",
    "\n",
    "axs[1].bar(boys_names.index, boys_names['n']/1000000, color = 'blue')\n",
    "axs[1].set_ylabel(\"Number of boys (millions)\")\n",
    "axs[1].set_xlabel(\"First letter of first name\")"
   ]
  },
  {
   "cell_type": "markdown",
   "metadata": {},
   "source": [
    "10. What similarities and differences in boys' and girls' first initials are highlighted by using subplots?"
   ]
  },
  {
   "cell_type": "markdown",
   "metadata": {},
   "source": [
    "*Sample response*: The relative change from one letter to it's neighbors is generally consistent across the boys' and girls' plots (for example, *E* is less common than *D*, which is less common than *C*). There are some striking differences in individual letters, like *S*, which is popular among girls and not very popular among boys. Very few children receive names beginning with *X*, which is disappointing."
   ]
  },
  {
   "cell_type": "markdown",
   "metadata": {},
   "source": [
    "11. Change the code above so that the subplots are side-by-side rather than stacked vertically. Which arrangement is better for comparing and contrasting these distributions?"
   ]
  },
  {
   "cell_type": "markdown",
   "metadata": {},
   "source": [
    "*Sample response*: Vertically stacking these plots is more useful, because it allows for easier comparison across boys and girls for the same letter."
   ]
  },
  {
   "cell_type": "markdown",
   "metadata": {},
   "source": [
    "12. Based on all you've learned in this unit so far, decide on another way of grouping the baby names data. Create subplots that compare results across groups."
   ]
  },
  {
   "cell_type": "code",
   "execution_count": null,
   "metadata": {},
   "outputs": [],
   "source": [
    "#Sample response: (various.)"
   ]
  }
 ],
 "metadata": {
  "kernelspec": {
   "display_name": "Python 3",
   "language": "python",
   "name": "python3"
  },
  "language_info": {
   "codemirror_mode": {
    "name": "ipython",
    "version": 3
   },
   "file_extension": ".py",
   "mimetype": "text/x-python",
   "name": "python",
   "nbconvert_exporter": "python",
   "pygments_lexer": "ipython3",
   "version": "3.8.5"
  }
 },
 "nbformat": 4,
 "nbformat_minor": 4
}
