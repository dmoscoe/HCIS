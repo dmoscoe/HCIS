{
 "cells": [
  {
   "cell_type": "markdown",
   "metadata": {},
   "source": [
    "## Lesson 3. Measures of center"
   ]
  },
  {
   "cell_type": "markdown",
   "metadata": {},
   "source": [
    "**Introduction**. When we combine a visual representation of our data with *summary statistics*, like measures of center, we get a more complete understanding of how our data behaves. In this lesson, we'll learn how to compute the mean and median of a data set using the Python statistics module. Then we'll further customize our histograms to emphasize an appropriate measure of center."
   ]
  },
  {
   "cell_type": "markdown",
   "metadata": {},
   "source": [
    "**Goal**. Choose a measure of center appropriate for the data. Represent the center of the data set graphically."
   ]
  },
  {
   "cell_type": "markdown",
   "metadata": {},
   "source": [
    "### Measures of center"
   ]
  },
  {
   "cell_type": "markdown",
   "metadata": {},
   "source": [
    "In this lesson we'll place all our code for the first histogram in the cell labeled  \n",
    "`###CODE FOR FIRST HISTOGRAM###`\\.  \n",
    "Code for the second histogram will go in the cell labeled  \n",
    "`###CODE FOR SECOND HISTOGRAM###`."
   ]
  },
  {
   "cell_type": "code",
   "execution_count": 29,
   "metadata": {
    "scrolled": false
   },
   "outputs": [
    {
     "name": "stdout",
     "output_type": "stream",
     "text": [
      "-0.07289575571999762\n"
     ]
    },
    {
     "data": {
      "text/plain": [
       "<matplotlib.lines.Line2D at 0x19f971ff670>"
      ]
     },
     "execution_count": 29,
     "metadata": {},
     "output_type": "execute_result"
    },
    {
     "data": {
      "image/png": "[encoded data removed]",
      "text/plain": [
       "<Figure size 432x288 with 1 Axes>"
      ]
     },
     "metadata": {
      "needs_background": "light"
     },
     "output_type": "display_data"
    }
   ],
   "source": [
    "###CODE FOR FIRST HISTOGRAM###\n",
    "\n",
    "import numpy as np\n",
    "import pandas as pd\n",
    "import matplotlib.pyplot as plt\n",
    "import statistics as st\n",
    "\n",
    "a = np.random.normal(loc = 82, scale = 5, size = 300)\n",
    "fig, axs = plt.subplots()\n",
    "axs.hist(a, bins = 20)\n",
    "\n",
    "axs.set_xlabel(\"Temperature (degrees Fahrenheit)\")\n",
    "axs.set_ylabel(\"Number of days\")\n",
    "axs.set_title(label = \"Daily high temperature in May in NYC, 2010-2020\")\n",
    "\n",
    "#Use the commented line below to zoom into different regions of the histogram.\n",
    "#This can help with distinguishing mean and median.\n",
    "#axs.set_xlim(80,83)\n",
    "\n",
    "#Sample response:\n",
    "abar = st.mean(a)\n",
    "#print(abar)\n",
    "mda = st.median(a)\n",
    "print(abar - mda)\n",
    "axs.axvline(st.median(a), color = 'red')\n",
    "axs.axvline(st.mean(a), color = 'purple')"
   ]
  },
  {
   "cell_type": "code",
   "execution_count": 26,
   "metadata": {},
   "outputs": [
    {
     "name": "stdout",
     "output_type": "stream",
     "text": [
      "1.9781846557894833\n",
      "1.9944838886513736\n",
      "0.016299232861890278\n"
     ]
    },
    {
     "data": {
      "text/plain": [
       "<matplotlib.lines.Line2D at 0x19f98c0ff70>"
      ]
     },
     "execution_count": 26,
     "metadata": {},
     "output_type": "execute_result"
    },
    {
     "data": {
      "image/png": "[encoded data removed]",
      "text/plain": [
       "<Figure size 432x288 with 1 Axes>"
      ]
     },
     "metadata": {
      "needs_background": "light"
     },
     "output_type": "display_data"
    }
   ],
   "source": [
    "###CODE FOR SECOND HISTOGRAM###\n",
    "\n",
    "b = np.random.normal(loc = 2, scale = 2, size = 100)\n",
    "fig, axs = plt.subplots()\n",
    "axs.hist(b**2, bins = 20)\n",
    "\n",
    "axs.set_xlabel(\"Number of locations\")\n",
    "axs.set_ylabel(\"Number of car wash companies\")\n",
    "axs.set_title(label = \"Number of locations of car wash companies operating in NYC\")\n",
    "\n",
    "#Use the commented line below to zoom into different regions of the histogram.\n",
    "#This can help with distinguishing mean and median.\n",
    "#axs.set_xlim(1,3)\n",
    "\n",
    "#Sample response\n",
    "bmd = st.median(b)\n",
    "print(bmd)\n",
    "bbar = st.mean(b)\n",
    "print(bbar)\n",
    "print(bbar - bmd)\n",
    "axs.axvline(st.median(b), color = 'red')\n",
    "axs.axvline(st.mean(b), color = 'purple')"
   ]
  },
  {
   "cell_type": "markdown",
   "metadata": {},
   "source": [
    "1. How would you describe the shape of the data for the first histogram?"
   ]
  },
  {
   "cell_type": "markdown",
   "metadata": {},
   "source": [
    "*Sample response*: The data for the first histogram is roughly symmetric, and it has a peak in the low 80s. All the data seems to lie between about 65 degrees and 100 degrees."
   ]
  },
  {
   "cell_type": "markdown",
   "metadata": {},
   "source": [
    "2. Based on a visual inspection of the first histogram, about where do you think is the average value of the data?"
   ]
  },
  {
   "cell_type": "markdown",
   "metadata": {},
   "source": [
    "*Sample response*: The average value of the data in the first histogram is around 82 degrees."
   ]
  },
  {
   "cell_type": "markdown",
   "metadata": {},
   "source": [
    "3. Which measure of center, mean or median, do you think would be a good choice for the data in the first histogram? Why?"
   ]
  },
  {
   "cell_type": "markdown",
   "metadata": {},
   "source": [
    "*Sample response*: I think either the mean or median could be a good choice for a measure of center for the first histogram. Both will identify the central peak as the center, and this is a good measure of a typical value in this data set."
   ]
  },
  {
   "cell_type": "markdown",
   "metadata": {},
   "source": [
    "The first histogram shows a data set that is roughly *symmetric*. Data are symmetric when the shapes of the data on either side of the center are approximate reflections of each other. Since all data contains some randomness, we don't ever expect to see perfect symmetry.  \n",
    "\n",
    "When data are symmetric, the *mean* is often a good choice for a measure of center. To compute the mean, use the `mean()` method from the `statistics` module.  \n",
    "\n",
    "In mathematical notation, we represent the mean of a sample of data with $\\bar{x}$, pronounced \"x bar.\""
   ]
  },
  {
   "cell_type": "markdown",
   "metadata": {},
   "source": [
    "4. Assign the variable `abar` to the mean of the data displayed in the first histogram."
   ]
  },
  {
   "cell_type": "markdown",
   "metadata": {},
   "source": [
    "5. What is the value of `abar`? Does this match your prediction for the center of the data that you made in prompt 2?"
   ]
  },
  {
   "cell_type": "markdown",
   "metadata": {},
   "source": [
    "The value of `abar` is approximately 82 degrees. This matches my prediction."
   ]
  },
  {
   "cell_type": "markdown",
   "metadata": {},
   "source": [
    "The second histogram shows a data set that is not symmetric. This data set is *skewed right*, because it has a long tail that extends rightward from the main cluster of data."
   ]
  },
  {
   "cell_type": "markdown",
   "metadata": {},
   "source": [
    "6. How would you describe the shape of the data in the second histogram without using the term \"skewed right\"?"
   ]
  },
  {
   "cell_type": "markdown",
   "metadata": {},
   "source": [
    "*Sample response*: The data has as peak toward the left of the histogram. As the histogram extends right, the height of the histogram decreases at a decreasing rate."
   ]
  },
  {
   "cell_type": "markdown",
   "metadata": {},
   "source": [
    "7. Based on a visual inspection of the second histogram, about where do you think is the average value of the data set? Why?"
   ]
  },
  {
   "cell_type": "markdown",
   "metadata": {},
   "source": [
    "*Sample response*: Based on a visual inspection, I think the average value of this data is near 5. The large values in the right tail will have a large influence on the mean value."
   ]
  },
  {
   "cell_type": "markdown",
   "metadata": {},
   "source": [
    "8. Which measure of center, mean or median, do you think would be a good choice for this data set? Why?"
   ]
  },
  {
   "cell_type": "markdown",
   "metadata": {},
   "source": [
    "*Sample response*: I think the median is a good choice for a measure of center for this data set. Even though we want to take into account the large values in the right tail, we don't want them to have so much influence that we lose sight of the location of a typical value, which would be near 5, or maybe even less."
   ]
  },
  {
   "cell_type": "markdown",
   "metadata": {},
   "source": [
    "When data are skewed, the *median* is often a good choice for a measure of center. To compute the median, use the `median()` method from the `statistics` module."
   ]
  },
  {
   "cell_type": "markdown",
   "metadata": {},
   "source": [
    "9. Assign the variable `bmd` to the median of the data displayed in the second histogram."
   ]
  },
  {
   "cell_type": "markdown",
   "metadata": {},
   "source": [
    "10. What is the value of `bmd`? Does this match your prediction for the center of the data that you made in prompt 7?"
   ]
  },
  {
   "cell_type": "markdown",
   "metadata": {},
   "source": [
    "*Sample response*: The value of `bmd` is about 1.91. My prediction for the center of the data set was too high, when we consider the center to be the median value."
   ]
  },
  {
   "cell_type": "markdown",
   "metadata": {},
   "source": [
    "11. Compute the median of the data in the first histogram, and compute the mean of the data in the second histogram. For which data set is the difference between the mean and median greater? What explains this?"
   ]
  },
  {
   "cell_type": "markdown",
   "metadata": {},
   "source": [
    "*Sample response*: The difference between the mean and median is greater in histogram 1. However, this larger value could be an artifact of the larger variability in the dataset. In general, the mean and median are farther apart when data are skewed."
   ]
  },
  {
   "cell_type": "markdown",
   "metadata": {},
   "source": [
    "12. For which data set do you think your choice of measure of center is more important? Why?"
   ]
  },
  {
   "cell_type": "markdown",
   "metadata": {},
   "source": [
    "*Sample response*: I think the choice of measure of center is more important for the skewed data, since for the symmetric data, the mean and median generally report almost the same value."
   ]
  },
  {
   "cell_type": "markdown",
   "metadata": {},
   "source": [
    "13. Does the mean of the data for the second histogram reflect a \"typical value\" for this data set?"
   ]
  },
  {
   "cell_type": "markdown",
   "metadata": {},
   "source": [
    "*Student response*: The mean does a reasonable job of reporting a \"typical value\" for the car wash data."
   ]
  },
  {
   "cell_type": "markdown",
   "metadata": {},
   "source": [
    "Let's add vertical lines to each histogram at the mean and median. To do this, we can use the `axvline()` method on the `axs` object. `axvline` takes as its first argument the value where it will be plotted on the histogram. It also has a keyword argument `color` that you can set to most common color words.  \n",
    "\n",
    "Uncomment the line containing `axvline()` in the code for the first histogram to see an example. Then replicate the example so that both histograms show vertical lines at their means and medians. You should also experiment with the `axs.set_xlim()` lines to zoom in for a clearer picture of the relationship between the mean and median."
   ]
  },
  {
   "cell_type": "markdown",
   "metadata": {},
   "source": [
    "### Summary"
   ]
  },
  {
   "cell_type": "markdown",
   "metadata": {},
   "source": [
    "Summary statistics, like measures of center, can be combined with a histogram to give a clearer picture of a data set.  \n",
    "Mean is a good choice for a measure of center when the data are symmetric. When the data are skewed, median is often a better choice.  \n",
    "We can represent a measure of center graphically with a vertical line over a histogram. "
   ]
  },
  {
   "cell_type": "markdown",
   "metadata": {},
   "source": [
    "### Discussion questions"
   ]
  },
  {
   "cell_type": "markdown",
   "metadata": {},
   "source": [
    "14. If we already have a histogram of our data, why would we care about summary statistics? If we already knew the summary statistics, could a histogram be useful?"
   ]
  },
  {
   "cell_type": "markdown",
   "metadata": {},
   "source": [
    "*Sample response*: Summary statistics give us another option for quantifying and comparing our data. A histogram could still be useful even if we knew the summary statistics, because it could help us see the shape of our data, and compare it graphically to other data sets."
   ]
  },
  {
   "cell_type": "markdown",
   "metadata": {},
   "source": [
    "15. Can you imagine a data set for which the mean or median would not be very informative?"
   ]
  },
  {
   "cell_type": "markdown",
   "metadata": {},
   "source": [
    "*Sample response*: A data set that had two peaks that were very far apart might not be well-described by a single measure of center, like mean or median. That's because the typical values in this data set would be far from any measure of center."
   ]
  },
  {
   "cell_type": "markdown",
   "metadata": {},
   "source": [
    "16. On a separate sheet of paper, try to sketch a symmetric and a skewed histogram that have the same mean. Sketch another pair that have the same median. What do you notice or wonder?"
   ]
  },
  {
   "cell_type": "markdown",
   "metadata": {},
   "source": [
    "*Sample response*: (various.)"
   ]
  }
 ],
 "metadata": {
  "kernelspec": {
   "display_name": "Python 3",
   "language": "python",
   "name": "python3"
  },
  "language_info": {
   "codemirror_mode": {
    "name": "ipython",
    "version": 3
   },
   "file_extension": ".py",
   "mimetype": "text/x-python",
   "name": "python",
   "nbconvert_exporter": "python",
   "pygments_lexer": "ipython3",
   "version": "3.8.5"
  }
 },
 "nbformat": 4,
 "nbformat_minor": 4
}
