{
 "cells": [
  {
   "cell_type": "markdown",
   "metadata": {},
   "source": [
    "## Portfolio Piece 1: Designing Histograms"
   ]
  },
  {
   "cell_type": "markdown",
   "metadata": {},
   "source": [
    "**Introduction**. It might seem like producing a histogram for a given data set is a purely mechanical process-- after all, a computer can do it! But we've seen that the creator of any data visualization faces many design choices that contribute to the quality of the final product. In this portfolio piece, you will show how the choices you make about designing histograms help reveal the shape and meaning of your data."
   ]
  },
  {
   "cell_type": "markdown",
   "metadata": {},
   "source": [
    "**Goal**. Create two histograms. Choose labels and settings that reveal the shape and meaning of the data."
   ]
  },
  {
   "cell_type": "markdown",
   "metadata": {},
   "source": [
    "1. Let's start by importing modules. Import `matplotlib.pyplot` as `plt` and `pandas` as `pd`."
   ]
  },
  {
   "cell_type": "code",
   "execution_count": 2,
   "metadata": {},
   "outputs": [],
   "source": [
    "import matplotlib.pyplot as plt\n",
    "import pandas as pd\n",
    "import statistics as st"
   ]
  },
  {
   "cell_type": "markdown",
   "metadata": {},
   "source": [
    "2. After exploring the data in the folder `[foldername]`, choose one variable from one dataset that you would like to visualize with a histogram. Read the dataset into Python as `df`. Then assign `x` to the vector containing the data to be visualized."
   ]
  },
  {
   "cell_type": "code",
   "execution_count": 3,
   "metadata": {},
   "outputs": [],
   "source": [
    "df = pd.read_csv(\"https://raw.githubusercontent.com/dmoscoe/HCIS/main/csv/flights_flights.csv\")\n",
    "x = df['air_time']"
   ]
  },
  {
   "cell_type": "markdown",
   "metadata": {},
   "source": [
    "3. Why is a histogram a good choice for visualizing this variable?"
   ]
  },
  {
   "cell_type": "markdown",
   "metadata": {},
   "source": [
    "*Sample response*: After reading the dataset documentation, I chose `air_time` to visualize with a histogram. I chose this variable because it's numeric and it contains a broad range of values. (I knew this based on my knowledge of flights from NYC airports, as well as by viewing the first few entries.) I expect that while some flight durations will be very short or very long, most will fall in a middle range. If I'm right about this, then a histogram will be a good tool for visualizing this mound-shaped data."
   ]
  },
  {
   "cell_type": "markdown",
   "metadata": {},
   "source": [
    "**For prompts 4-7, 9, and 10, add your code to the cell marked \"CODE FOR FIRST HISTOGRAM\".**"
   ]
  },
  {
   "cell_type": "markdown",
   "metadata": {},
   "source": [
    "4. Create a new `figure` object and `axes` object."
   ]
  },
  {
   "cell_type": "markdown",
   "metadata": {},
   "source": [
    "5. Create the default histogram for your data."
   ]
  },
  {
   "cell_type": "markdown",
   "metadata": {},
   "source": [
    "6. Based on the default histogram, does it appear that your data include extreme outliers? If so, drop values farther than 3.5 standard deviations from the mean."
   ]
  },
  {
   "cell_type": "markdown",
   "metadata": {},
   "source": [
    "7. Add the keyword argument `bins` to your code. After experimenting with different values, choose one that results in a reasonable balance between displaying the overall shape of the data, and displaying the details of the data."
   ]
  },
  {
   "cell_type": "markdown",
   "metadata": {},
   "source": [
    "8. What is the shape of the data? How did you decide on your value for `bins`?"
   ]
  },
  {
   "cell_type": "markdown",
   "metadata": {},
   "source": [
    "*Sample response*: I experimented with values for `bins` in increments of 5 from 5 to 30. I wanted to highlight the shape near the two peaks of the distribution. By choosing `bins = 20`, I was able to preserve the large peak near 140 and the smaller peak near 340. I was also able to show the symmetry about the short peak, as well as the sharp drop-off to the right of the tall peak."
   ]
  },
  {
   "cell_type": "markdown",
   "metadata": {},
   "source": [
    "9. Add a title to the plot."
   ]
  },
  {
   "cell_type": "markdown",
   "metadata": {},
   "source": [
    "10. Add labels for the `x` and `y` axes. Make sure to include any units of measurement."
   ]
  },
  {
   "cell_type": "code",
   "execution_count": 4,
   "metadata": {},
   "outputs": [
    {
     "data": {
      "text/plain": [
       "Text(0, 0.5, 'Number of flights')"
      ]
     },
     "execution_count": 4,
     "metadata": {},
     "output_type": "execute_result"
    },
    {
     "data": {
      "image/png": "[encoded data removed]",
      "text/plain": [
       "<Figure size 432x288 with 1 Axes>"
      ]
     },
     "metadata": {
      "needs_background": "light"
     },
     "output_type": "display_data"
    }
   ],
   "source": [
    "###CODE FOR FIRST HISTOGRAM###\n",
    "#Sample response:\n",
    "x = x.dropna()\n",
    "x = x[abs(x - st.mean(x)) < 3.5 * st.stdev(x)]\n",
    "fig, axs = plt.subplots()\n",
    "axs.hist(x, bins = 20)\n",
    "axs.set_title(label = \"Air Time for Flights Departing NYC, 2013\")\n",
    "axs.set_xlabel(\"Air time (minutes)\")\n",
    "axs.set_ylabel(\"Number of flights\")"
   ]
  },
  {
   "cell_type": "markdown",
   "metadata": {},
   "source": [
    "11. Write a short paragraph explaining the histogram above. Here are some questions to help guide your writing:\n",
    " - What data does the histogram display?\n",
    " - What is the overall purpose of the larger dataset that it came from?\n",
    " - What is noteworthy about this graph, or about the choices you made while designing it?\n",
    " - What questions might this histogram help a reader answer?"
   ]
  },
  {
   "cell_type": "markdown",
   "metadata": {},
   "source": [
    "*Sample response*: The histogram \"Air Time for Flights Departing NYC, 2013\" shows the distribution of the durations of all flights departing the three major NYC airports during 2013. The histogram shows that the large majority of flights have a duration of 200 minutes or less. A significant fraction of flights have durations near 360 minutes. After extreme outliers were removed, no flights last 400 minutes or longer. Based on my knowledge of flight traffic out of NYC, I speculate that flights with durations up to about 200 minutes are mostly traveling within the continental US. Flights with durations longer than 300 minutes are probably traveling overseas. Overseas flights comprise a significant minority of all flights. This histogram can help the viewer understand how flights from NYC fall broadly into two categories: short-to-medium length flights, and long flights."
   ]
  },
  {
   "cell_type": "markdown",
   "metadata": {},
   "source": [
    "12. In the cell marked \"CODE FOR SECOND HISTOGRAM\", create a second histogram for a different variable. You can use the same dataset for this second variable, or you can use a different dataset."
   ]
  },
  {
   "cell_type": "code",
   "execution_count": 9,
   "metadata": {},
   "outputs": [
    {
     "data": {
      "text/plain": [
       "Text(0, 0.5, 'Number of flights')"
      ]
     },
     "execution_count": 9,
     "metadata": {},
     "output_type": "execute_result"
    },
    {
     "data": {
      "image/png": "[encoded data removed]",
      "text/plain": [
       "<Figure size 432x288 with 1 Axes>"
      ]
     },
     "metadata": {
      "needs_background": "light"
     },
     "output_type": "display_data"
    }
   ],
   "source": [
    "###CODE FOR SECOND HISTOGRAM###\n",
    "#Sample response:\n",
    "y = df['arr_delay']\n",
    "y = y.dropna()\n",
    "y = y[abs(y - st.mean(y)) < 3.5 * st.stdev(y)]\n",
    "fig2, axs2 = plt.subplots()\n",
    "axs2.hist(y, bins = 25)\n",
    "axs2.set_title(label = \"Arrival Delays for Flights Departing NYC, 2013\")\n",
    "axs2.set_xlabel(\"Arrival delay (minutes)\")\n",
    "axs2.set_ylabel(\"Number of flights\")"
   ]
  },
  {
   "cell_type": "markdown",
   "metadata": {},
   "source": [
    "13. As in prompt 11, write a short paragraph explaining the second histogram above."
   ]
  },
  {
   "cell_type": "markdown",
   "metadata": {},
   "source": [
    "*Sample response*: The histogram \"Arrival Delays for Flights Departing NYC, 2013\" shows the distribution of arrival delays for all flights departing the three major NYC airports during 2013. The histogram shows that most flights arrive nearly on-time or early, but the data has a significant right skew. The skewed shape of the distribution indicates that a significant number of flights experience long arrival delays of an hour or longer. To create this histogram, I dropped several extreme outliers more than 3.5 standard deviations away from the mean. The data might be skewed right because, while there's a limited amount of time that a flight can make up en route, delays can be almost arbitrarily long. This histogram can help the viewer understand the on-time arrival performance of flights leaving NYC in 2013. It might be useful to compare this graph to similar data from other cities, or group this data by airline or destination."
   ]
  }
 ],
 "metadata": {
  "kernelspec": {
   "display_name": "Python 3",
   "language": "python",
   "name": "python3"
  },
  "language_info": {
   "codemirror_mode": {
    "name": "ipython",
    "version": 3
   },
   "file_extension": ".py",
   "mimetype": "text/x-python",
   "name": "python",
   "nbconvert_exporter": "python",
   "pygments_lexer": "ipython3",
   "version": "3.8.5"
  }
 },
 "nbformat": 4,
 "nbformat_minor": 4
}
