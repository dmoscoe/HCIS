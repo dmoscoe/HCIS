{
 "cells": [
  {
   "cell_type": "markdown",
   "metadata": {},
   "source": [
    "## Portfolio Piece 3: Using Histograms to Compare Groups"
   ]
  },
  {
   "cell_type": "markdown",
   "metadata": {},
   "source": [
    "**Introduction**. During this unit you've learned that we can find meaning in a dataset by visualizing its shape and descriptive statistics. One way to continue the search for meaning in data is by considering separately the groups within a dataset. In this portfolio piece, you will construct histograms that reveal how different parts of a single dataset--*groups*--relate to each other."
   ]
  },
  {
   "cell_type": "markdown",
   "metadata": {},
   "source": [
    "**Goal**. Create a single column of subplots (i.e., *small multiples*), each containing a histogram for one group within your data. Make visual comparisons of shape, center, and spread to compare groups. Use this new information to elaborate on the story of your dataset."
   ]
  },
  {
   "cell_type": "markdown",
   "metadata": {},
   "source": [
    "1. Import `matplotlib.pyplot` as `plt`, `pandas` as `pd`, and `statistics` as `st`."
   ]
  },
  {
   "cell_type": "code",
   "execution_count": 2,
   "metadata": {},
   "outputs": [],
   "source": [
    "#Sample response:\n",
    "import matplotlib.pyplot as plt\n",
    "import pandas as pd\n",
    "import statistics as st"
   ]
  },
  {
   "cell_type": "markdown",
   "metadata": {},
   "source": [
    "2. From Portfolio Piece 1, copy and paste the code to import your data into the code cell below."
   ]
  },
  {
   "cell_type": "code",
   "execution_count": 3,
   "metadata": {},
   "outputs": [],
   "source": [
    "#Sample response:\n",
    "df = pd.read_csv(\"https://raw.githubusercontent.com/dmoscoe/HCIS/main/csv/flights_flights.csv\")\n",
    "x = df['air_time']"
   ]
  },
  {
   "cell_type": "markdown",
   "metadata": {},
   "source": [
    "2. Earlier, you explored the structure of one of the datasets from Portfolio Piece 1. Based on that exploration, how will you group your data? What new questions might we be able to answer by breaking down the data into groups?"
   ]
  },
  {
   "cell_type": "markdown",
   "metadata": {},
   "source": [
    "*Sample response*: I'll be examining groups in the dataset that measures flight duration for flights departing NYC. By examining the structure of this dataset, I noticed that each flight was associated with one of the three major NYC airports (EWR, JFK, LGA). I will use these airports as my groups. This might help me see whether flight durations vary from airport to airport."
   ]
  },
  {
   "cell_type": "markdown",
   "metadata": {},
   "source": [
    "To separate your data into groups, you can assign variables to subsets of the observations. One variable will be assigned to each subset that forms a group."
   ]
  },
  {
   "cell_type": "markdown",
   "metadata": {},
   "source": [
    "3. Assign a variable to each group in your data. Use comments to describe the data represented by each variable."
   ]
  },
  {
   "cell_type": "code",
   "execution_count": 7,
   "metadata": {},
   "outputs": [],
   "source": [
    "#Sample response:\n",
    "x_ewr = df[df['origin'] == \"EWR\"]\n",
    "x_ewr = x_ewr['air_time']\n",
    "\n",
    "x_jfk = df[df['origin'] == \"JFK\"]\n",
    "x_jfk = x_jfk['air_time']\n",
    "\n",
    "x_lga = df[df['origin'] == \"LGA\"]\n",
    "x_lga = x_lga['air_time']"
   ]
  },
  {
   "cell_type": "markdown",
   "metadata": {},
   "source": [
    "4. Drop missing values and extreme outliers."
   ]
  },
  {
   "cell_type": "code",
   "execution_count": 8,
   "metadata": {},
   "outputs": [],
   "source": [
    "#Sample response:\n",
    "def tidy(x):\n",
    "    x = x.dropna()\n",
    "    x = x[abs(x - st.mean(x)) < 3.5 * st.stdev(x)]\n",
    "    return x\n",
    "\n",
    "x_ewr = tidy(x_ewr)\n",
    "x_jfk = tidy(x_jfk)\n",
    "x_lga = tidy(x_lga)"
   ]
  },
  {
   "cell_type": "markdown",
   "metadata": {},
   "source": [
    "5. Print the number of observations in each group. If there are more than 50 observations in each group, then we'll be able to see the shape of the data and make comparisons across groups."
   ]
  },
  {
   "cell_type": "code",
   "execution_count": 9,
   "metadata": {},
   "outputs": [
    {
     "name": "stdout",
     "output_type": "stream",
     "text": [
      "116768\n",
      "108737\n",
      "101137\n"
     ]
    }
   ],
   "source": [
    "#Sample response:\n",
    "print(len(x_ewr))\n",
    "print(len(x_jfk))\n",
    "print(len(x_lga))"
   ]
  },
  {
   "cell_type": "markdown",
   "metadata": {},
   "source": [
    "6. Compute descriptive statistics for each group."
   ]
  },
  {
   "cell_type": "code",
   "execution_count": 10,
   "metadata": {},
   "outputs": [],
   "source": [
    "#Sample response:\n",
    "xbar_ewr = st.mean(x_ewr)\n",
    "xmd_ewr = st.median(x_ewr)\n",
    "xs_ewr = st.stdev(x_ewr)\n",
    "xq1_ewr = st.quantiles(x_ewr, n = 4)[0]\n",
    "xq3_ewr = st.quantiles(x_ewr, n = 4)[2]\n",
    "\n",
    "xbar_jfk = st.mean(x_jfk)\n",
    "xmd_jfk = st.median(x_jfk)\n",
    "xs_jfk = st.stdev(x_jfk)\n",
    "xq1_jfk = st.quantiles(x_jfk, n = 4)[0]\n",
    "xq3_jfk = st.quantiles(x_jfk, n = 4)[2]\n",
    "\n",
    "xbar_lga = st.mean(x_lga)\n",
    "xmd_lga = st.median(x_lga)\n",
    "xs_lga = st.stdev(x_lga)\n",
    "xq1_lga = st.quantiles(x_lga, n = 4)[0]\n",
    "xq3_lga = st.quantiles(x_lga, n = 4)[2]"
   ]
  },
  {
   "cell_type": "markdown",
   "metadata": {},
   "source": [
    "**For prompts 7, 8, 10, and 12, add your code to the cell marked \"CODE FOR HISTOGRAM SUBPLOTS\".**"
   ]
  },
  {
   "cell_type": "markdown",
   "metadata": {},
   "source": [
    "7. To compare the groups within your data, construct a column of subplots, each of which will contain a histogram for one group. In the call to `plt.subplots()`, set the keyword argument `sharex` to `True` so that we can make visual comparisons of the location of the data within each group. You may wish to experiment with other keyword arguments, like `bins`."
   ]
  },
  {
   "cell_type": "markdown",
   "metadata": {},
   "source": [
    "8. Add axis labels and a title to your plots as appropriate."
   ]
  },
  {
   "cell_type": "markdown",
   "metadata": {},
   "source": [
    "9. Comment on the shape of the data within each group, or any other interesting features that you notice at this point."
   ]
  },
  {
   "cell_type": "markdown",
   "metadata": {},
   "source": [
    "*Sample response*: By breaking the data into groups, I can see that the longest flights originate exclusively from JFK and EWR. I also notice that there's a gap in the distribution for JFK where there is a peak for LGA and EWR. It appears that JFK specializes in very short and very long flights."
   ]
  },
  {
   "cell_type": "markdown",
   "metadata": {},
   "source": [
    "10. Based on the shape of the data within each group, as well as the descriptive statistics you calculated above, plot solid vertical lines to show a single measure of center for each group. If it's hard to see these lines, change the transparency of the histograms by setting the keyword argument `alpha` to `0.3` in the call to `axs.hist()`."
   ]
  },
  {
   "cell_type": "markdown",
   "metadata": {},
   "source": [
    "11. What measure of center did you choose? Why did you choose it?"
   ]
  },
  {
   "cell_type": "markdown",
   "metadata": {},
   "source": [
    "*Sample response*: I chose mean as the best measure of center for these distributions. Since I'm especially curious about the effect of very long flights on the typical flight duration from NYC airports, I wanted a measure of center that would be sensitive to these larger values."
   ]
  },
  {
   "cell_type": "markdown",
   "metadata": {},
   "source": [
    "12. Choose a single measure of spread to represent about how far from the center we might expect a typical value to be. Add code to plot dashed vertical lines that show the variability of each group."
   ]
  },
  {
   "cell_type": "markdown",
   "metadata": {},
   "source": [
    "13. What measure of spread did you choose? Why did you choose it?"
   ]
  },
  {
   "cell_type": "markdown",
   "metadata": {},
   "source": [
    "*Sample response*: I chose standard deviation as the best measure of spread for these distributions. I knew this measure would be more sensitive to the very long flights, and it might help me detect differences in the variability of the flight durations from the different NYC airports."
   ]
  },
  {
   "cell_type": "code",
   "execution_count": 13,
   "metadata": {},
   "outputs": [
    {
     "data": {
      "text/plain": [
       "<matplotlib.lines.Line2D at 0x2b543fdd2e0>"
      ]
     },
     "execution_count": 13,
     "metadata": {},
     "output_type": "execute_result"
    },
    {
     "data": {
      "image/png": "[encoded data removed]",
      "text/plain": [
       "<Figure size 432x288 with 3 Axes>"
      ]
     },
     "metadata": {
      "needs_background": "light"
     },
     "output_type": "display_data"
    }
   ],
   "source": [
    "###CODE FOR HISTOGRAM SUBPLOTS###\n",
    "#Sample response:\n",
    "fig, axs = plt.subplots(3,1, sharex = True)\n",
    "axs[0].hist(x_ewr, bins = 20, alpha = 0.3)\n",
    "axs[1].hist(x_jfk, bins = 20, alpha = 0.3)\n",
    "axs[2].hist(x_lga, alpha = 0.3)\n",
    "\n",
    "axs[0].set_title(label = \"Air Time for Flights Departing NYC, 2013, by Airport\")\n",
    "\n",
    "axs[0].set_ylabel(\"EWR\")\n",
    "axs[1].set_ylabel(\"JFK\")\n",
    "axs[2].set_ylabel(\"LGA\")\n",
    "\n",
    "axs[2].set_xlabel(\"Air time (minutes)\")\n",
    "\n",
    "axs[0].axvline(st.mean(x_ewr), color = 'red')\n",
    "axs[1].axvline(st.mean(x_jfk), color = 'red')\n",
    "axs[2].axvline(st.mean(x_lga), color = 'red')\n",
    "axs[0].axvline(st.mean(x_ewr) + st.stdev(x_ewr), color = 'red', linestyle = '--')\n",
    "axs[1].axvline(st.mean(x_jfk) + st.stdev(x_jfk), color = 'red', linestyle = '--')\n",
    "axs[2].axvline(st.mean(x_lga) + st.stdev(x_lga), color = 'red', linestyle = '--')\n",
    "axs[0].axvline(st.mean(x_ewr) - st.stdev(x_ewr), color = 'red', linestyle = '--')\n",
    "axs[1].axvline(st.mean(x_jfk) - st.stdev(x_jfk), color = 'red', linestyle = '--')\n",
    "axs[2].axvline(st.mean(x_lga) - st.stdev(x_lga), color = 'red', linestyle = '--')"
   ]
  },
  {
   "cell_type": "markdown",
   "metadata": {},
   "source": [
    "In Portfolio Pieces 1 and 2, we looked at the center, shape, and spread of the entire dataset. Now we can see how those properties of the whole dataset depend on the properties of groups within it."
   ]
  },
  {
   "cell_type": "markdown",
   "metadata": {},
   "source": [
    "14. How do the properties of different groups within your dataset compare? Do you see any clear differences in shape, center, or spread across groups?"
   ]
  },
  {
   "cell_type": "markdown",
   "metadata": {},
   "source": [
    "*Sample response*: By breaking the distribution into groups, it's clear to see that the kinds of flights departing from the different NYC airports vary. LGA specializes in shorter flights, and flights departing LGA show only a small variability in their duration. In contrast, flights from JFK are, on average, longer. Most striking is the large variability in flight duration for JFK. This is caused by a group of long flights clustered near a secondary peak near the right of the JFK distribution. Flights departing EWR seem to be a mix of short flights, similar to those departing LGA, and longer flights, similar to the long flights departing JFK."
   ]
  },
  {
   "cell_type": "markdown",
   "metadata": {},
   "source": [
    "15. How do these differences across groups contribute to our understanding of the data? Did analyzing the data by group help you see something that you didn't see before?"
   ]
  },
  {
   "cell_type": "markdown",
   "metadata": {},
   "source": [
    "*Sample response*: By breaking the distribution into groups, I was able to see important features of the data that were not detectable when the dataset was visualized as a whole. I can see that LGA specializes in shorter flights. But EWR and JFK have a mix of shorter and longer flights, with JFK having the greatest number of long flights."
   ]
  },
  {
   "cell_type": "markdown",
   "metadata": {},
   "source": [
    "16. What else do you notice or wonder about this data or the way that we analyzed it in this unit? What questions about this data are still unanswered? What would you do to investigate these questions?"
   ]
  },
  {
   "cell_type": "markdown",
   "metadata": {},
   "source": [
    "*Sample response*: I wonder if it would be possible to further group the data by domestic and international flights for flights departing JFK and EWR. I speculate that domestic flights make up the left parts of those distributions, and international flights make up the right peaks. It also seems like LGA may not offer any international flights."
   ]
  }
 ],
 "metadata": {
  "kernelspec": {
   "display_name": "Python 3",
   "language": "python",
   "name": "python3"
  },
  "language_info": {
   "codemirror_mode": {
    "name": "ipython",
    "version": 3
   },
   "file_extension": ".py",
   "mimetype": "text/x-python",
   "name": "python",
   "nbconvert_exporter": "python",
   "pygments_lexer": "ipython3",
   "version": "3.8.5"
  }
 },
 "nbformat": 4,
 "nbformat_minor": 4
}
