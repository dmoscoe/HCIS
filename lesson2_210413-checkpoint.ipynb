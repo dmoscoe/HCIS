{
 "cells": [
  {
   "cell_type": "markdown",
   "metadata": {},
   "source": [
    "## Lesson 2: Customizing a histogram"
   ]
  },
  {
   "cell_type": "markdown",
   "metadata": {},
   "source": [
    "**Introduction**. In lesson 1, we learned how to use matplotlib to generate a basic histogram. Then we thought about how we could customize the histogram to make it more useful to a reader encountering our data for the first time. In this lesson we'll learn how to make some of these changes."
   ]
  },
  {
   "cell_type": "markdown",
   "metadata": {},
   "source": [
    "**Goal**. Customize a basic histogram by adding labels and titles, and by setting the number of bins."
   ]
  },
  {
   "cell_type": "markdown",
   "metadata": {},
   "source": [
    "In this lesson we'll place all our code for the histogram we build together in the same cell, located directly below this one, and labeled  \n",
    "`###CODE FOR HISTOGRAM###`"
   ]
  },
  {
   "cell_type": "code",
   "execution_count": 2,
   "metadata": {},
   "outputs": [],
   "source": [
    "###CODE FOR HISTOGRAM###\n",
    "\n",
    "import numpy as np\n",
    "import pandas as pd\n",
    "import matplotlib.pyplot as plt\n"
   ]
  },
  {
   "cell_type": "markdown",
   "metadata": {},
   "source": [
    "1. Create a basic histogram by either copying and pasting your work from lesson 1, or by plotting data you haven't worked with yet."
   ]
  },
  {
   "cell_type": "markdown",
   "metadata": {},
   "source": [
    "### Labels and titles"
   ]
  },
  {
   "cell_type": "markdown",
   "metadata": {},
   "source": [
    "Data visualizations do not stand alone. They require explanatory text to help the reader interpret the shapes and patterns they see. We can start to explain our histogram by labeling the horizontal (`x`) and vertical (`y`) axes."
   ]
  },
  {
   "cell_type": "markdown",
   "metadata": {},
   "source": [
    "Helpful axes labels have some special characteristics.\n",
    "1. They use natural language (\"Total sales,\" not `tot_sls`) to name the variables whose levels or values are being shown;\n",
    "2. They include a unit in parentheses, if necessary;\n",
    "3. They begin with a capital letter and continue with all lowercase (except proper nouns or certain units)."
   ]
  },
  {
   "cell_type": "markdown",
   "metadata": {},
   "source": [
    "We can add axes labels to a plot with the `axs.set_xlabel()` and `axs.set_ylabel()` methods. Here, `axs` is the name of the axes object created with `plt.subplots()`."
   ]
  },
  {
   "cell_type": "markdown",
   "metadata": {},
   "source": [
    "2. Add `x` and `y` labels to your histogram."
   ]
  },
  {
   "cell_type": "markdown",
   "metadata": {},
   "source": [
    "A title also helps explain a histogram. Good titles summarize the data displayed in the plot. Sometimes they do this by naming the topic of the plot (e.g., \"Restaurant sales\"). They might also summarize the plot by pointing out a trend or claim that you want your reader to understand (e.g., \"Most top-50 restaurants are franchises\").  \n",
    "\n",
    "We can add a title to a plot with the `axs.set_title(label = ...)` method. Replace the ellipsis with a title in quotes."
   ]
  },
  {
   "cell_type": "markdown",
   "metadata": {},
   "source": [
    "3. Add a title to your histogram."
   ]
  },
  {
   "cell_type": "markdown",
   "metadata": {},
   "source": [
    "4. Below are three histograms with no labels or titles. Add axes labels and titles that are reasonable given all the other information in the plot."
   ]
  },
  {
   "cell_type": "code",
   "execution_count": 4,
   "metadata": {},
   "outputs": [
    {
     "data": {
      "text/plain": [
       "(array([ 5.,  4., 10., 15., 26., 54., 55., 75., 77., 65., 34., 30., 22.,\n",
       "        19.,  9.]),\n",
       " array([-2.67953507, -1.96846734, -1.25739961, -0.54633188,  0.16473585,\n",
       "         0.87580358,  1.5868713 ,  2.29793903,  3.00900676,  3.72007449,\n",
       "         4.43114222,  5.14220995,  5.85327768,  6.5643454 ,  7.27541313,\n",
       "         7.98648086]),\n",
       " <BarContainer object of 15 artists>)"
      ]
     },
     "execution_count": 4,
     "metadata": {},
     "output_type": "execute_result"
    },
    {
     "data": {
      "image/png": "[encoded data removed]",
      "text/plain": [
       "<Figure size 432x288 with 1 Axes>"
      ]
     },
     "metadata": {
      "needs_background": "light"
     },
     "output_type": "display_data"
    }
   ],
   "source": [
    "a = np.random.normal(loc = 3, scale = 2, size = 500)\n",
    "fig, axs = plt.subplots()\n",
    "axs.hist(a, bins = 15)"
   ]
  },
  {
   "cell_type": "code",
   "execution_count": 9,
   "metadata": {},
   "outputs": [
    {
     "data": {
      "text/plain": [
       "(array([109., 140., 103.,  61.,  34.,  24.,  15.,   6.,   4.,   2.,   0.,\n",
       "          0.,   1.,   0.,   1.]),\n",
       " array([ 0.26037702,  1.80652842,  3.35267982,  4.89883122,  6.44498262,\n",
       "         7.99113402,  9.53728542, 11.08343682, 12.62958822, 14.17573962,\n",
       "        15.72189102, 17.26804242, 18.81419381, 20.36034521, 21.90649661,\n",
       "        23.45264801]),\n",
       " <BarContainer object of 15 artists>)"
      ]
     },
     "execution_count": 9,
     "metadata": {},
     "output_type": "execute_result"
    },
    {
     "data": {
      "image/png": "[encoded data removed]",
      "text/plain": [
       "<Figure size 432x288 with 1 Axes>"
      ]
     },
     "metadata": {
      "needs_background": "light"
     },
     "output_type": "display_data"
    }
   ],
   "source": [
    "b = np.random.chisquare(df = 4, size = 500)\n",
    "fig2,axs2 = plt.subplots()\n",
    "axs2.hist(b, bins = 15)"
   ]
  },
  {
   "cell_type": "code",
   "execution_count": 12,
   "metadata": {},
   "outputs": [
    {
     "data": {
      "text/plain": [
       "(array([ 9., 12., 10.,  6., 12.,  9.,  7., 11., 10., 14.]),\n",
       " array([101. , 140.2, 179.4, 218.6, 257.8, 297. , 336.2, 375.4, 414.6,\n",
       "        453.8, 493. ]),\n",
       " <BarContainer object of 10 artists>)"
      ]
     },
     "execution_count": 12,
     "metadata": {},
     "output_type": "execute_result"
    },
    {
     "data": {
      "image/png": "[encoded data removed]",
      "text/plain": [
       "<Figure size 432x288 with 1 Axes>"
      ]
     },
     "metadata": {
      "needs_background": "light"
     },
     "output_type": "display_data"
    }
   ],
   "source": [
    "c = np.random.randint(100,500,100)\n",
    "fig3,axs3 = plt.subplots()\n",
    "axs3.hist(c)"
   ]
  },
  {
   "cell_type": "markdown",
   "metadata": {},
   "source": [
    "###  Bins"
   ]
  },
  {
   "cell_type": "markdown",
   "metadata": {},
   "source": [
    "One of the purposes of a histogram is to reveal interesting patterns in data, including the *shape* of a data set. We can do this by setting the keyword argument `bins` in the call to `axs.hist()` to an appropriate value. The number of bins in a histogram is the number of columns displayed on the axes. (If there are no values in one of the bin intervals, then there may be fewer columns than the number of bins.)"
   ]
  },
  {
   "cell_type": "markdown",
   "metadata": {},
   "source": [
    "5. Set the number of bins in your histogram to 5."
   ]
  },
  {
   "cell_type": "markdown",
   "metadata": {},
   "source": [
    "6. What do you think about the choice of `bins = 5`? Does this help the reader understand your data better, or does it hide something about your data?"
   ]
  },
  {
   "cell_type": "markdown",
   "metadata": {},
   "source": []
  },
  {
   "cell_type": "markdown",
   "metadata": {},
   "source": [
    "7. Experiment with different values for `bins`. What do you think is the best value? Why?"
   ]
  },
  {
   "cell_type": "markdown",
   "metadata": {},
   "source": [
    "When choosing a value for `bins`, it's helpful to consider the following:  \n",
    "1. Am I providing too much detail about my data? Not enough?  \n",
    "2. What patterns will ym reader see for different values of `bins`?  \n",
    "3. Is there a value for `bins` that reveals a recognizable shape in my data?  \n",
    "4. Is there a value for `bins` that reveals a clear center or most frequent range of values in my data?"
   ]
  },
  {
   "cell_type": "markdown",
   "metadata": {},
   "source": [
    "8. Did these considerations lead you to choose a different value for `bins`? Why?"
   ]
  },
  {
   "cell_type": "markdown",
   "metadata": {},
   "source": []
  },
  {
   "cell_type": "markdown",
   "metadata": {},
   "source": [
    "### Summary"
   ]
  },
  {
   "cell_type": "markdown",
   "metadata": {},
   "source": [
    "Data visualizations like histograms require explanatory text, like axes labels and titles, to be useful to readers.  \n",
    "Choosing the number of bins for a histogram is one way to reveal patterns and interesting features in the data."
   ]
  },
  {
   "cell_type": "markdown",
   "metadata": {},
   "source": [
    "### Discussion questions"
   ]
  },
  {
   "cell_type": "markdown",
   "metadata": {},
   "source": [
    "1. Could a histogram with `bins = 1` ever be useful? Explain."
   ]
  },
  {
   "cell_type": "markdown",
   "metadata": {},
   "source": []
  },
  {
   "cell_type": "markdown",
   "metadata": {},
   "source": [
    "2. Can you think of a situation where a histogram with `bins = 1000` might be useful?"
   ]
  },
  {
   "cell_type": "markdown",
   "metadata": {},
   "source": []
  },
  {
   "cell_type": "markdown",
   "metadata": {},
   "source": [
    "3. Compare the axes labels and titles that you created for prompt 4 with those of some of your classmates. Are there any responses that you think are particularly clever or interesting? Are there any you think could be improved? How would you improve them?"
   ]
  },
  {
   "cell_type": "markdown",
   "metadata": {},
   "source": []
  }
 ],
 "metadata": {
  "kernelspec": {
   "display_name": "Python 3",
   "language": "python",
   "name": "python3"
  },
  "language_info": {
   "codemirror_mode": {
    "name": "ipython",
    "version": 3
   },
   "file_extension": ".py",
   "mimetype": "text/x-python",
   "name": "python",
   "nbconvert_exporter": "python",
   "pygments_lexer": "ipython3",
   "version": "3.8.5"
  }
 },
 "nbformat": 4,
 "nbformat_minor": 4
}
